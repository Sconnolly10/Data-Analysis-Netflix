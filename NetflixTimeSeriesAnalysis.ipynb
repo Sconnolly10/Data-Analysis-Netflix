{
 "cells": [
  {
   "cell_type": "markdown",
   "metadata": {},
   "source": [
    "# Time Series Analysis for Netflix\n"
   ]
  },
  {
   "cell_type": "markdown",
   "metadata": {},
   "source": [
    "Name: Stephen Connolly\n",
    "Student Number:15449388"
   ]
  },
  {
   "cell_type": "markdown",
   "metadata": {},
   "source": [
    "This notebook uses the Netflix stock data given on the link of the assignment. I chose this file due to the meteoric rise Netflix has experienced and the popularity of streaming services today."
   ]
  },
  {
   "cell_type": "code",
   "execution_count": 382,
   "metadata": {
    "collapsed": true
   },
   "outputs": [],
   "source": [
    "import pandas as pd\n",
    "import matplotlib\n",
    "import matplotlib.pylab as plt\n",
    "%matplotlib inline "
   ]
  },
  {
   "cell_type": "markdown",
   "metadata": {},
   "source": [
    "I used the read_html function to read in the required data. However, this only works for one yeat at a time. I have done this for all years between 2013-2017 inclusive"
   ]
  },
  {
   "cell_type": "code",
   "execution_count": 383,
   "metadata": {
    "collapsed": true
   },
   "outputs": [],
   "source": [
    "Netflix13 = pd.read_html(\"http://mlg.ucd.ie/modules/COMP30760/stocks/nflx.html\")[0]"
   ]
  },
  {
   "cell_type": "code",
   "execution_count": 384,
   "metadata": {},
   "outputs": [
    {
     "data": {
      "text/html": [
       "<div>\n",
       "<style>\n",
       "    .dataframe thead tr:only-child th {\n",
       "        text-align: right;\n",
       "    }\n",
       "\n",
       "    .dataframe thead th {\n",
       "        text-align: left;\n",
       "    }\n",
       "\n",
       "    .dataframe tbody tr th {\n",
       "        vertical-align: top;\n",
       "    }\n",
       "</style>\n",
       "<table border=\"1\" class=\"dataframe\">\n",
       "  <thead>\n",
       "    <tr style=\"text-align: right;\">\n",
       "      <th></th>\n",
       "      <th>Day</th>\n",
       "      <th>Month</th>\n",
       "      <th>Year</th>\n",
       "      <th>Open</th>\n",
       "      <th>High</th>\n",
       "      <th>Low</th>\n",
       "      <th>Close</th>\n",
       "    </tr>\n",
       "  </thead>\n",
       "  <tbody>\n",
       "    <tr>\n",
       "      <th>247</th>\n",
       "      <td>24</td>\n",
       "      <td>12</td>\n",
       "      <td>2013</td>\n",
       "      <td>54.394287</td>\n",
       "      <td>54.851429</td>\n",
       "      <td>53.925713</td>\n",
       "      <td>54.055714</td>\n",
       "    </tr>\n",
       "    <tr>\n",
       "      <th>248</th>\n",
       "      <td>26</td>\n",
       "      <td>12</td>\n",
       "      <td>2013</td>\n",
       "      <td>54.015713</td>\n",
       "      <td>54.415714</td>\n",
       "      <td>53.689999</td>\n",
       "      <td>53.847141</td>\n",
       "    </tr>\n",
       "    <tr>\n",
       "      <th>249</th>\n",
       "      <td>27</td>\n",
       "      <td>12</td>\n",
       "      <td>2013</td>\n",
       "      <td>53.872856</td>\n",
       "      <td>54.107143</td>\n",
       "      <td>52.258572</td>\n",
       "      <td>52.500000</td>\n",
       "    </tr>\n",
       "    <tr>\n",
       "      <th>250</th>\n",
       "      <td>30</td>\n",
       "      <td>12</td>\n",
       "      <td>2013</td>\n",
       "      <td>52.517143</td>\n",
       "      <td>52.791428</td>\n",
       "      <td>51.291428</td>\n",
       "      <td>52.427143</td>\n",
       "    </tr>\n",
       "    <tr>\n",
       "      <th>251</th>\n",
       "      <td>31</td>\n",
       "      <td>12</td>\n",
       "      <td>2013</td>\n",
       "      <td>52.214287</td>\n",
       "      <td>52.735714</td>\n",
       "      <td>51.947144</td>\n",
       "      <td>52.595715</td>\n",
       "    </tr>\n",
       "  </tbody>\n",
       "</table>\n",
       "</div>"
      ],
      "text/plain": [
       "     Day  Month  Year       Open       High        Low      Close\n",
       "247   24     12  2013  54.394287  54.851429  53.925713  54.055714\n",
       "248   26     12  2013  54.015713  54.415714  53.689999  53.847141\n",
       "249   27     12  2013  53.872856  54.107143  52.258572  52.500000\n",
       "250   30     12  2013  52.517143  52.791428  51.291428  52.427143\n",
       "251   31     12  2013  52.214287  52.735714  51.947144  52.595715"
      ]
     },
     "execution_count": 384,
     "metadata": {},
     "output_type": "execute_result"
    }
   ],
   "source": [
    "Netflix13.tail(5)"
   ]
  },
  {
   "cell_type": "markdown",
   "metadata": {},
   "source": [
    "# Data Parsing"
   ]
  },
  {
   "cell_type": "code",
   "execution_count": 385,
   "metadata": {
    "collapsed": true
   },
   "outputs": [],
   "source": [
    "Netflix14 = pd.read_html(\"http://mlg.ucd.ie/modules/COMP30760/stocks/nflx.html\")[1]"
   ]
  },
  {
   "cell_type": "code",
   "execution_count": 386,
   "metadata": {
    "collapsed": true
   },
   "outputs": [],
   "source": [
    "Netflix15 = pd.read_html(\"http://mlg.ucd.ie/modules/COMP30760/stocks/nflx.html\")[2]"
   ]
  },
  {
   "cell_type": "code",
   "execution_count": 387,
   "metadata": {
    "collapsed": true
   },
   "outputs": [],
   "source": [
    "Netflix16 = pd.read_html(\"http://mlg.ucd.ie/modules/COMP30760/stocks/nflx.html\")[3]"
   ]
  },
  {
   "cell_type": "code",
   "execution_count": 388,
   "metadata": {
    "collapsed": true
   },
   "outputs": [],
   "source": [
    "Netflix17 = pd.read_html(\"http://mlg.ucd.ie/modules/COMP30760/stocks/nflx.html\")[4]"
   ]
  },
  {
   "cell_type": "code",
   "execution_count": 389,
   "metadata": {},
   "outputs": [
    {
     "data": {
      "text/html": [
       "<div>\n",
       "<style>\n",
       "    .dataframe thead tr:only-child th {\n",
       "        text-align: right;\n",
       "    }\n",
       "\n",
       "    .dataframe thead th {\n",
       "        text-align: left;\n",
       "    }\n",
       "\n",
       "    .dataframe tbody tr th {\n",
       "        vertical-align: top;\n",
       "    }\n",
       "</style>\n",
       "<table border=\"1\" class=\"dataframe\">\n",
       "  <thead>\n",
       "    <tr style=\"text-align: right;\">\n",
       "      <th></th>\n",
       "      <th>Day</th>\n",
       "      <th>Month</th>\n",
       "      <th>Year</th>\n",
       "      <th>Open</th>\n",
       "      <th>High</th>\n",
       "      <th>Low</th>\n",
       "      <th>Close</th>\n",
       "    </tr>\n",
       "  </thead>\n",
       "  <tbody>\n",
       "    <tr>\n",
       "      <th>0</th>\n",
       "      <td>2</td>\n",
       "      <td>1</td>\n",
       "      <td>2014</td>\n",
       "      <td>52.401428</td>\n",
       "      <td>52.511429</td>\n",
       "      <td>51.542858</td>\n",
       "      <td>51.831429</td>\n",
       "    </tr>\n",
       "    <tr>\n",
       "      <th>1</th>\n",
       "      <td>3</td>\n",
       "      <td>1</td>\n",
       "      <td>2014</td>\n",
       "      <td>52.000000</td>\n",
       "      <td>52.495716</td>\n",
       "      <td>51.842857</td>\n",
       "      <td>51.871429</td>\n",
       "    </tr>\n",
       "    <tr>\n",
       "      <th>2</th>\n",
       "      <td>6</td>\n",
       "      <td>1</td>\n",
       "      <td>2014</td>\n",
       "      <td>51.889999</td>\n",
       "      <td>52.044285</td>\n",
       "      <td>50.475716</td>\n",
       "      <td>51.367142</td>\n",
       "    </tr>\n",
       "  </tbody>\n",
       "</table>\n",
       "</div>"
      ],
      "text/plain": [
       "   Day  Month  Year       Open       High        Low      Close\n",
       "0    2      1  2014  52.401428  52.511429  51.542858  51.831429\n",
       "1    3      1  2014  52.000000  52.495716  51.842857  51.871429\n",
       "2    6      1  2014  51.889999  52.044285  50.475716  51.367142"
      ]
     },
     "execution_count": 389,
     "metadata": {},
     "output_type": "execute_result"
    }
   ],
   "source": [
    "Netflix14.head(3)"
   ]
  },
  {
   "cell_type": "markdown",
   "metadata": {},
   "source": [
    "I placed all these data frames into an array and then concatenated them together"
   ]
  },
  {
   "cell_type": "code",
   "execution_count": 390,
   "metadata": {
    "collapsed": true
   },
   "outputs": [],
   "source": [
    "frames = [Netflix13, Netflix14, Netflix15, Netflix16, Netflix17]"
   ]
  },
  {
   "cell_type": "code",
   "execution_count": 391,
   "metadata": {
    "collapsed": true
   },
   "outputs": [],
   "source": [
    "result = pd.concat(frames)"
   ]
  },
  {
   "cell_type": "code",
   "execution_count": 392,
   "metadata": {},
   "outputs": [
    {
     "data": {
      "text/html": [
       "<div>\n",
       "<style>\n",
       "    .dataframe thead tr:only-child th {\n",
       "        text-align: right;\n",
       "    }\n",
       "\n",
       "    .dataframe thead th {\n",
       "        text-align: left;\n",
       "    }\n",
       "\n",
       "    .dataframe tbody tr th {\n",
       "        vertical-align: top;\n",
       "    }\n",
       "</style>\n",
       "<table border=\"1\" class=\"dataframe\">\n",
       "  <thead>\n",
       "    <tr style=\"text-align: right;\">\n",
       "      <th></th>\n",
       "      <th>Day</th>\n",
       "      <th>Month</th>\n",
       "      <th>Year</th>\n",
       "      <th>Open</th>\n",
       "      <th>High</th>\n",
       "      <th>Low</th>\n",
       "      <th>Close</th>\n",
       "    </tr>\n",
       "  </thead>\n",
       "  <tbody>\n",
       "    <tr>\n",
       "      <th>0</th>\n",
       "      <td>2</td>\n",
       "      <td>1</td>\n",
       "      <td>2013</td>\n",
       "      <td>13.601429</td>\n",
       "      <td>13.687143</td>\n",
       "      <td>12.955714</td>\n",
       "      <td>13.144286</td>\n",
       "    </tr>\n",
       "    <tr>\n",
       "      <th>1</th>\n",
       "      <td>3</td>\n",
       "      <td>1</td>\n",
       "      <td>2013</td>\n",
       "      <td>13.138572</td>\n",
       "      <td>13.988571</td>\n",
       "      <td>13.075714</td>\n",
       "      <td>13.798572</td>\n",
       "    </tr>\n",
       "    <tr>\n",
       "      <th>2</th>\n",
       "      <td>4</td>\n",
       "      <td>1</td>\n",
       "      <td>2013</td>\n",
       "      <td>13.791429</td>\n",
       "      <td>13.958571</td>\n",
       "      <td>13.648571</td>\n",
       "      <td>13.711429</td>\n",
       "    </tr>\n",
       "  </tbody>\n",
       "</table>\n",
       "</div>"
      ],
      "text/plain": [
       "   Day  Month  Year       Open       High        Low      Close\n",
       "0    2      1  2013  13.601429  13.687143  12.955714  13.144286\n",
       "1    3      1  2013  13.138572  13.988571  13.075714  13.798572\n",
       "2    4      1  2013  13.791429  13.958571  13.648571  13.711429"
      ]
     },
     "execution_count": 392,
     "metadata": {},
     "output_type": "execute_result"
    }
   ],
   "source": [
    "result.head(3)"
   ]
  },
  {
   "cell_type": "code",
   "execution_count": 393,
   "metadata": {},
   "outputs": [
    {
     "data": {
      "text/html": [
       "<div>\n",
       "<style>\n",
       "    .dataframe thead tr:only-child th {\n",
       "        text-align: right;\n",
       "    }\n",
       "\n",
       "    .dataframe thead th {\n",
       "        text-align: left;\n",
       "    }\n",
       "\n",
       "    .dataframe tbody tr th {\n",
       "        vertical-align: top;\n",
       "    }\n",
       "</style>\n",
       "<table border=\"1\" class=\"dataframe\">\n",
       "  <thead>\n",
       "    <tr style=\"text-align: right;\">\n",
       "      <th></th>\n",
       "      <th>Day</th>\n",
       "      <th>Month</th>\n",
       "      <th>Year</th>\n",
       "      <th>Open</th>\n",
       "      <th>High</th>\n",
       "      <th>Low</th>\n",
       "      <th>Close</th>\n",
       "    </tr>\n",
       "  </thead>\n",
       "  <tbody>\n",
       "    <tr>\n",
       "      <th>251</th>\n",
       "      <td>31</td>\n",
       "      <td>12</td>\n",
       "      <td>2013</td>\n",
       "      <td>52.214287</td>\n",
       "      <td>52.735714</td>\n",
       "      <td>51.947144</td>\n",
       "      <td>52.595715</td>\n",
       "    </tr>\n",
       "    <tr>\n",
       "      <th>0</th>\n",
       "      <td>2</td>\n",
       "      <td>1</td>\n",
       "      <td>2014</td>\n",
       "      <td>52.401428</td>\n",
       "      <td>52.511429</td>\n",
       "      <td>51.542858</td>\n",
       "      <td>51.831429</td>\n",
       "    </tr>\n",
       "    <tr>\n",
       "      <th>1</th>\n",
       "      <td>3</td>\n",
       "      <td>1</td>\n",
       "      <td>2014</td>\n",
       "      <td>52.000000</td>\n",
       "      <td>52.495716</td>\n",
       "      <td>51.842857</td>\n",
       "      <td>51.871429</td>\n",
       "    </tr>\n",
       "    <tr>\n",
       "      <th>2</th>\n",
       "      <td>6</td>\n",
       "      <td>1</td>\n",
       "      <td>2014</td>\n",
       "      <td>51.889999</td>\n",
       "      <td>52.044285</td>\n",
       "      <td>50.475716</td>\n",
       "      <td>51.367142</td>\n",
       "    </tr>\n",
       "    <tr>\n",
       "      <th>3</th>\n",
       "      <td>7</td>\n",
       "      <td>1</td>\n",
       "      <td>2014</td>\n",
       "      <td>49.684284</td>\n",
       "      <td>49.698570</td>\n",
       "      <td>48.152859</td>\n",
       "      <td>48.500000</td>\n",
       "    </tr>\n",
       "  </tbody>\n",
       "</table>\n",
       "</div>"
      ],
      "text/plain": [
       "     Day  Month  Year       Open       High        Low      Close\n",
       "251   31     12  2013  52.214287  52.735714  51.947144  52.595715\n",
       "0      2      1  2014  52.401428  52.511429  51.542858  51.831429\n",
       "1      3      1  2014  52.000000  52.495716  51.842857  51.871429\n",
       "2      6      1  2014  51.889999  52.044285  50.475716  51.367142\n",
       "3      7      1  2014  49.684284  49.698570  48.152859  48.500000"
      ]
     },
     "execution_count": 393,
     "metadata": {},
     "output_type": "execute_result"
    }
   ],
   "source": [
    "result.head(256).tail(5)"
   ]
  },
  {
   "cell_type": "markdown",
   "metadata": {},
   "source": [
    "As can be seen above, the index reverts back to 0 when the year changes. The following cell resets the index to rectify this issue"
   ]
  },
  {
   "cell_type": "code",
   "execution_count": 394,
   "metadata": {
    "collapsed": true
   },
   "outputs": [],
   "source": [
    "tailored = result.reset_index(drop = True)"
   ]
  },
  {
   "cell_type": "code",
   "execution_count": 395,
   "metadata": {},
   "outputs": [
    {
     "data": {
      "text/html": [
       "<div>\n",
       "<style>\n",
       "    .dataframe thead tr:only-child th {\n",
       "        text-align: right;\n",
       "    }\n",
       "\n",
       "    .dataframe thead th {\n",
       "        text-align: left;\n",
       "    }\n",
       "\n",
       "    .dataframe tbody tr th {\n",
       "        vertical-align: top;\n",
       "    }\n",
       "</style>\n",
       "<table border=\"1\" class=\"dataframe\">\n",
       "  <thead>\n",
       "    <tr style=\"text-align: right;\">\n",
       "      <th></th>\n",
       "      <th>Day</th>\n",
       "      <th>Month</th>\n",
       "      <th>Year</th>\n",
       "      <th>Open</th>\n",
       "      <th>High</th>\n",
       "      <th>Low</th>\n",
       "      <th>Close</th>\n",
       "    </tr>\n",
       "  </thead>\n",
       "  <tbody>\n",
       "    <tr>\n",
       "      <th>251</th>\n",
       "      <td>31</td>\n",
       "      <td>12</td>\n",
       "      <td>2013</td>\n",
       "      <td>52.214287</td>\n",
       "      <td>52.735714</td>\n",
       "      <td>51.947144</td>\n",
       "      <td>52.595715</td>\n",
       "    </tr>\n",
       "    <tr>\n",
       "      <th>252</th>\n",
       "      <td>2</td>\n",
       "      <td>1</td>\n",
       "      <td>2014</td>\n",
       "      <td>52.401428</td>\n",
       "      <td>52.511429</td>\n",
       "      <td>51.542858</td>\n",
       "      <td>51.831429</td>\n",
       "    </tr>\n",
       "    <tr>\n",
       "      <th>253</th>\n",
       "      <td>3</td>\n",
       "      <td>1</td>\n",
       "      <td>2014</td>\n",
       "      <td>52.000000</td>\n",
       "      <td>52.495716</td>\n",
       "      <td>51.842857</td>\n",
       "      <td>51.871429</td>\n",
       "    </tr>\n",
       "    <tr>\n",
       "      <th>254</th>\n",
       "      <td>6</td>\n",
       "      <td>1</td>\n",
       "      <td>2014</td>\n",
       "      <td>51.889999</td>\n",
       "      <td>52.044285</td>\n",
       "      <td>50.475716</td>\n",
       "      <td>51.367142</td>\n",
       "    </tr>\n",
       "    <tr>\n",
       "      <th>255</th>\n",
       "      <td>7</td>\n",
       "      <td>1</td>\n",
       "      <td>2014</td>\n",
       "      <td>49.684284</td>\n",
       "      <td>49.698570</td>\n",
       "      <td>48.152859</td>\n",
       "      <td>48.500000</td>\n",
       "    </tr>\n",
       "  </tbody>\n",
       "</table>\n",
       "</div>"
      ],
      "text/plain": [
       "     Day  Month  Year       Open       High        Low      Close\n",
       "251   31     12  2013  52.214287  52.735714  51.947144  52.595715\n",
       "252    2      1  2014  52.401428  52.511429  51.542858  51.831429\n",
       "253    3      1  2014  52.000000  52.495716  51.842857  51.871429\n",
       "254    6      1  2014  51.889999  52.044285  50.475716  51.367142\n",
       "255    7      1  2014  49.684284  49.698570  48.152859  48.500000"
      ]
     },
     "execution_count": 395,
     "metadata": {},
     "output_type": "execute_result"
    }
   ],
   "source": [
    "tailored.head(256).tail(5)"
   ]
  },
  {
   "cell_type": "code",
   "execution_count": 396,
   "metadata": {},
   "outputs": [
    {
     "data": {
      "text/html": [
       "<div>\n",
       "<style>\n",
       "    .dataframe thead tr:only-child th {\n",
       "        text-align: right;\n",
       "    }\n",
       "\n",
       "    .dataframe thead th {\n",
       "        text-align: left;\n",
       "    }\n",
       "\n",
       "    .dataframe tbody tr th {\n",
       "        vertical-align: top;\n",
       "    }\n",
       "</style>\n",
       "<table border=\"1\" class=\"dataframe\">\n",
       "  <thead>\n",
       "    <tr style=\"text-align: right;\">\n",
       "      <th></th>\n",
       "      <th>Day</th>\n",
       "      <th>Month</th>\n",
       "      <th>Year</th>\n",
       "      <th>Open</th>\n",
       "      <th>High</th>\n",
       "      <th>Low</th>\n",
       "      <th>Close</th>\n",
       "    </tr>\n",
       "  </thead>\n",
       "  <tbody>\n",
       "    <tr>\n",
       "      <th>1256</th>\n",
       "      <td>27</td>\n",
       "      <td>12</td>\n",
       "      <td>2017</td>\n",
       "      <td>187.800003</td>\n",
       "      <td>188.100006</td>\n",
       "      <td>185.220001</td>\n",
       "      <td>186.240005</td>\n",
       "    </tr>\n",
       "    <tr>\n",
       "      <th>1257</th>\n",
       "      <td>28</td>\n",
       "      <td>12</td>\n",
       "      <td>2017</td>\n",
       "      <td>187.179993</td>\n",
       "      <td>194.490005</td>\n",
       "      <td>186.850006</td>\n",
       "      <td>192.710007</td>\n",
       "    </tr>\n",
       "    <tr>\n",
       "      <th>1258</th>\n",
       "      <td>29</td>\n",
       "      <td>12</td>\n",
       "      <td>2017</td>\n",
       "      <td>192.509995</td>\n",
       "      <td>193.949997</td>\n",
       "      <td>191.220001</td>\n",
       "      <td>191.960007</td>\n",
       "    </tr>\n",
       "  </tbody>\n",
       "</table>\n",
       "</div>"
      ],
      "text/plain": [
       "      Day  Month  Year        Open        High         Low       Close\n",
       "1256   27     12  2017  187.800003  188.100006  185.220001  186.240005\n",
       "1257   28     12  2017  187.179993  194.490005  186.850006  192.710007\n",
       "1258   29     12  2017  192.509995  193.949997  191.220001  191.960007"
      ]
     },
     "execution_count": 396,
     "metadata": {},
     "output_type": "execute_result"
    }
   ],
   "source": [
    "tailored.tail(3)"
   ]
  },
  {
   "cell_type": "code",
   "execution_count": 397,
   "metadata": {},
   "outputs": [
    {
     "name": "stdout",
     "output_type": "stream",
     "text": [
      "<class 'pandas.core.frame.DataFrame'>\n",
      "RangeIndex: 1259 entries, 0 to 1258\n",
      "Data columns (total 7 columns):\n",
      "Day      1259 non-null int64\n",
      "Month    1259 non-null int64\n",
      "Year     1259 non-null int64\n",
      "Open     1259 non-null float64\n",
      "High     1259 non-null float64\n",
      "Low      1259 non-null float64\n",
      "Close    1259 non-null float64\n",
      "dtypes: float64(4), int64(3)\n",
      "memory usage: 68.9 KB\n"
     ]
    }
   ],
   "source": [
    "tailored.info()"
   ]
  },
  {
   "cell_type": "markdown",
   "metadata": {},
   "source": [
    "Inserting new column called time. This column will have the date in the yyyy-mm-dd format for datetime index"
   ]
  },
  {
   "cell_type": "code",
   "execution_count": 398,
   "metadata": {
    "collapsed": true
   },
   "outputs": [],
   "source": [
    "tailored.insert(0, 'Time', \"\")"
   ]
  },
  {
   "cell_type": "code",
   "execution_count": 399,
   "metadata": {},
   "outputs": [
    {
     "data": {
      "text/html": [
       "<div>\n",
       "<style>\n",
       "    .dataframe thead tr:only-child th {\n",
       "        text-align: right;\n",
       "    }\n",
       "\n",
       "    .dataframe thead th {\n",
       "        text-align: left;\n",
       "    }\n",
       "\n",
       "    .dataframe tbody tr th {\n",
       "        vertical-align: top;\n",
       "    }\n",
       "</style>\n",
       "<table border=\"1\" class=\"dataframe\">\n",
       "  <thead>\n",
       "    <tr style=\"text-align: right;\">\n",
       "      <th></th>\n",
       "      <th>Time</th>\n",
       "      <th>Day</th>\n",
       "      <th>Month</th>\n",
       "      <th>Year</th>\n",
       "      <th>Open</th>\n",
       "      <th>High</th>\n",
       "      <th>Low</th>\n",
       "      <th>Close</th>\n",
       "    </tr>\n",
       "  </thead>\n",
       "  <tbody>\n",
       "    <tr>\n",
       "      <th>0</th>\n",
       "      <td></td>\n",
       "      <td>2</td>\n",
       "      <td>1</td>\n",
       "      <td>2013</td>\n",
       "      <td>13.601429</td>\n",
       "      <td>13.687143</td>\n",
       "      <td>12.955714</td>\n",
       "      <td>13.144286</td>\n",
       "    </tr>\n",
       "    <tr>\n",
       "      <th>1</th>\n",
       "      <td></td>\n",
       "      <td>3</td>\n",
       "      <td>1</td>\n",
       "      <td>2013</td>\n",
       "      <td>13.138572</td>\n",
       "      <td>13.988571</td>\n",
       "      <td>13.075714</td>\n",
       "      <td>13.798572</td>\n",
       "    </tr>\n",
       "    <tr>\n",
       "      <th>2</th>\n",
       "      <td></td>\n",
       "      <td>4</td>\n",
       "      <td>1</td>\n",
       "      <td>2013</td>\n",
       "      <td>13.791429</td>\n",
       "      <td>13.958571</td>\n",
       "      <td>13.648571</td>\n",
       "      <td>13.711429</td>\n",
       "    </tr>\n",
       "  </tbody>\n",
       "</table>\n",
       "</div>"
      ],
      "text/plain": [
       "  Time  Day  Month  Year       Open       High        Low      Close\n",
       "0         2      1  2013  13.601429  13.687143  12.955714  13.144286\n",
       "1         3      1  2013  13.138572  13.988571  13.075714  13.798572\n",
       "2         4      1  2013  13.791429  13.958571  13.648571  13.711429"
      ]
     },
     "execution_count": 399,
     "metadata": {},
     "output_type": "execute_result"
    }
   ],
   "source": [
    "tailored.head(3)"
   ]
  },
  {
   "cell_type": "code",
   "execution_count": 400,
   "metadata": {
    "collapsed": true
   },
   "outputs": [],
   "source": [
    "tailored['Time'] = tailored['Time'].astype(str)"
   ]
  },
  {
   "cell_type": "code",
   "execution_count": 401,
   "metadata": {},
   "outputs": [
    {
     "name": "stdout",
     "output_type": "stream",
     "text": [
      "<class 'pandas.core.frame.DataFrame'>\n",
      "RangeIndex: 1259 entries, 0 to 1258\n",
      "Data columns (total 8 columns):\n",
      "Time     1259 non-null object\n",
      "Day      1259 non-null int64\n",
      "Month    1259 non-null int64\n",
      "Year     1259 non-null int64\n",
      "Open     1259 non-null float64\n",
      "High     1259 non-null float64\n",
      "Low      1259 non-null float64\n",
      "Close    1259 non-null float64\n",
      "dtypes: float64(4), int64(3), object(1)\n",
      "memory usage: 78.8+ KB\n"
     ]
    }
   ],
   "source": [
    "tailored.info(3)"
   ]
  },
  {
   "cell_type": "code",
   "execution_count": 402,
   "metadata": {
    "collapsed": true
   },
   "outputs": [],
   "source": [
    "tailored['Time'] = \" \""
   ]
  },
  {
   "cell_type": "markdown",
   "metadata": {},
   "source": [
    "The next piece of code fills the time column with the values of the columns day, month and year"
   ]
  },
  {
   "cell_type": "code",
   "execution_count": 403,
   "metadata": {
    "collapsed": true
   },
   "outputs": [],
   "source": [
    "tailored['Time'] = tailored.Year.map(str) + \"-\" + tailored.Month.map(str) + \"-\" + tailored.Day.map(str)"
   ]
  },
  {
   "cell_type": "code",
   "execution_count": 404,
   "metadata": {},
   "outputs": [
    {
     "data": {
      "text/html": [
       "<div>\n",
       "<style>\n",
       "    .dataframe thead tr:only-child th {\n",
       "        text-align: right;\n",
       "    }\n",
       "\n",
       "    .dataframe thead th {\n",
       "        text-align: left;\n",
       "    }\n",
       "\n",
       "    .dataframe tbody tr th {\n",
       "        vertical-align: top;\n",
       "    }\n",
       "</style>\n",
       "<table border=\"1\" class=\"dataframe\">\n",
       "  <thead>\n",
       "    <tr style=\"text-align: right;\">\n",
       "      <th></th>\n",
       "      <th>Time</th>\n",
       "      <th>Day</th>\n",
       "      <th>Month</th>\n",
       "      <th>Year</th>\n",
       "      <th>Open</th>\n",
       "      <th>High</th>\n",
       "      <th>Low</th>\n",
       "      <th>Close</th>\n",
       "    </tr>\n",
       "  </thead>\n",
       "  <tbody>\n",
       "    <tr>\n",
       "      <th>0</th>\n",
       "      <td>2013-1-2</td>\n",
       "      <td>2</td>\n",
       "      <td>1</td>\n",
       "      <td>2013</td>\n",
       "      <td>13.601429</td>\n",
       "      <td>13.687143</td>\n",
       "      <td>12.955714</td>\n",
       "      <td>13.144286</td>\n",
       "    </tr>\n",
       "    <tr>\n",
       "      <th>1</th>\n",
       "      <td>2013-1-3</td>\n",
       "      <td>3</td>\n",
       "      <td>1</td>\n",
       "      <td>2013</td>\n",
       "      <td>13.138572</td>\n",
       "      <td>13.988571</td>\n",
       "      <td>13.075714</td>\n",
       "      <td>13.798572</td>\n",
       "    </tr>\n",
       "    <tr>\n",
       "      <th>2</th>\n",
       "      <td>2013-1-4</td>\n",
       "      <td>4</td>\n",
       "      <td>1</td>\n",
       "      <td>2013</td>\n",
       "      <td>13.791429</td>\n",
       "      <td>13.958571</td>\n",
       "      <td>13.648571</td>\n",
       "      <td>13.711429</td>\n",
       "    </tr>\n",
       "  </tbody>\n",
       "</table>\n",
       "</div>"
      ],
      "text/plain": [
       "       Time  Day  Month  Year       Open       High        Low      Close\n",
       "0  2013-1-2    2      1  2013  13.601429  13.687143  12.955714  13.144286\n",
       "1  2013-1-3    3      1  2013  13.138572  13.988571  13.075714  13.798572\n",
       "2  2013-1-4    4      1  2013  13.791429  13.958571  13.648571  13.711429"
      ]
     },
     "execution_count": 404,
     "metadata": {},
     "output_type": "execute_result"
    }
   ],
   "source": [
    "tailored.head(3)"
   ]
  },
  {
   "cell_type": "code",
   "execution_count": 405,
   "metadata": {},
   "outputs": [
    {
     "data": {
      "text/html": [
       "<div>\n",
       "<style>\n",
       "    .dataframe thead tr:only-child th {\n",
       "        text-align: right;\n",
       "    }\n",
       "\n",
       "    .dataframe thead th {\n",
       "        text-align: left;\n",
       "    }\n",
       "\n",
       "    .dataframe tbody tr th {\n",
       "        vertical-align: top;\n",
       "    }\n",
       "</style>\n",
       "<table border=\"1\" class=\"dataframe\">\n",
       "  <thead>\n",
       "    <tr style=\"text-align: right;\">\n",
       "      <th></th>\n",
       "      <th>Time</th>\n",
       "      <th>Day</th>\n",
       "      <th>Month</th>\n",
       "      <th>Year</th>\n",
       "      <th>Open</th>\n",
       "      <th>High</th>\n",
       "      <th>Low</th>\n",
       "      <th>Close</th>\n",
       "    </tr>\n",
       "  </thead>\n",
       "  <tbody>\n",
       "    <tr>\n",
       "      <th>1256</th>\n",
       "      <td>2017-12-27</td>\n",
       "      <td>27</td>\n",
       "      <td>12</td>\n",
       "      <td>2017</td>\n",
       "      <td>187.800003</td>\n",
       "      <td>188.100006</td>\n",
       "      <td>185.220001</td>\n",
       "      <td>186.240005</td>\n",
       "    </tr>\n",
       "    <tr>\n",
       "      <th>1257</th>\n",
       "      <td>2017-12-28</td>\n",
       "      <td>28</td>\n",
       "      <td>12</td>\n",
       "      <td>2017</td>\n",
       "      <td>187.179993</td>\n",
       "      <td>194.490005</td>\n",
       "      <td>186.850006</td>\n",
       "      <td>192.710007</td>\n",
       "    </tr>\n",
       "    <tr>\n",
       "      <th>1258</th>\n",
       "      <td>2017-12-29</td>\n",
       "      <td>29</td>\n",
       "      <td>12</td>\n",
       "      <td>2017</td>\n",
       "      <td>192.509995</td>\n",
       "      <td>193.949997</td>\n",
       "      <td>191.220001</td>\n",
       "      <td>191.960007</td>\n",
       "    </tr>\n",
       "  </tbody>\n",
       "</table>\n",
       "</div>"
      ],
      "text/plain": [
       "            Time  Day  Month  Year        Open        High         Low  \\\n",
       "1256  2017-12-27   27     12  2017  187.800003  188.100006  185.220001   \n",
       "1257  2017-12-28   28     12  2017  187.179993  194.490005  186.850006   \n",
       "1258  2017-12-29   29     12  2017  192.509995  193.949997  191.220001   \n",
       "\n",
       "           Close  \n",
       "1256  186.240005  \n",
       "1257  192.710007  \n",
       "1258  191.960007  "
      ]
     },
     "execution_count": 405,
     "metadata": {},
     "output_type": "execute_result"
    }
   ],
   "source": [
    "tailored.head(1300).tail(3)"
   ]
  },
  {
   "cell_type": "markdown",
   "metadata": {
    "collapsed": true
   },
   "source": [
    "As the two above examples show, there is a issue with the number of characters in the Time column. We want all of them in the same format totalling 10 characters including the 2 dashes('-'): yyyy-mm-dd. The script below rectifies this solution"
   ]
  },
  {
   "cell_type": "code",
   "execution_count": 406,
   "metadata": {
    "collapsed": true
   },
   "outputs": [],
   "source": [
    "for x in range(len(tailored)):\n",
    "    index = tailored.iloc[x].name\n",
    "    time = tailored.Time.iloc[x]\n",
    "    \n",
    "    if(len(time) == 8):\n",
    "        result = time[:5] + \"0\" + time[5:]\n",
    "        final_result = result[:8] + \"0\" + result[8:]\n",
    "        tailored.set_value(index, \"Time\", final_result)\n",
    "        \n",
    "    if(len(time) == 9):\n",
    "        sample = time.split(\"-\")#Split the string by the dash\n",
    "        if len(sample[1]) == 1:\n",
    "            final_result = time[:5] + \"0\" + time[5:]\n",
    "            tailored.set_value(index, \"Time\", final_result)\n",
    "            \n",
    "        if len(sample[2]) == 1:\n",
    "            final_result = time[:8] + \"0\" + time[8:]\n",
    "            tailored.set_value(index, \"Time\", final_result)\n",
    "\n",
    "   #No need to worry about len = 10 because that is correct already\n",
    "    \n",
    "   "
   ]
  },
  {
   "cell_type": "code",
   "execution_count": 407,
   "metadata": {},
   "outputs": [
    {
     "data": {
      "text/html": [
       "<div>\n",
       "<style>\n",
       "    .dataframe thead tr:only-child th {\n",
       "        text-align: right;\n",
       "    }\n",
       "\n",
       "    .dataframe thead th {\n",
       "        text-align: left;\n",
       "    }\n",
       "\n",
       "    .dataframe tbody tr th {\n",
       "        vertical-align: top;\n",
       "    }\n",
       "</style>\n",
       "<table border=\"1\" class=\"dataframe\">\n",
       "  <thead>\n",
       "    <tr style=\"text-align: right;\">\n",
       "      <th></th>\n",
       "      <th>Time</th>\n",
       "      <th>Day</th>\n",
       "      <th>Month</th>\n",
       "      <th>Year</th>\n",
       "      <th>Open</th>\n",
       "      <th>High</th>\n",
       "      <th>Low</th>\n",
       "      <th>Close</th>\n",
       "    </tr>\n",
       "  </thead>\n",
       "  <tbody>\n",
       "    <tr>\n",
       "      <th>25</th>\n",
       "      <td>2013-02-07</td>\n",
       "      <td>7</td>\n",
       "      <td>2</td>\n",
       "      <td>2013</td>\n",
       "      <td>26.535715</td>\n",
       "      <td>26.982857</td>\n",
       "      <td>25.505714</td>\n",
       "      <td>25.994286</td>\n",
       "    </tr>\n",
       "    <tr>\n",
       "      <th>26</th>\n",
       "      <td>2013-02-08</td>\n",
       "      <td>8</td>\n",
       "      <td>2</td>\n",
       "      <td>2013</td>\n",
       "      <td>25.962856</td>\n",
       "      <td>26.280001</td>\n",
       "      <td>25.715714</td>\n",
       "      <td>25.852858</td>\n",
       "    </tr>\n",
       "    <tr>\n",
       "      <th>27</th>\n",
       "      <td>2013-02-11</td>\n",
       "      <td>11</td>\n",
       "      <td>2</td>\n",
       "      <td>2013</td>\n",
       "      <td>25.568571</td>\n",
       "      <td>26.007143</td>\n",
       "      <td>24.971428</td>\n",
       "      <td>25.412857</td>\n",
       "    </tr>\n",
       "    <tr>\n",
       "      <th>28</th>\n",
       "      <td>2013-02-12</td>\n",
       "      <td>12</td>\n",
       "      <td>2</td>\n",
       "      <td>2013</td>\n",
       "      <td>25.808571</td>\n",
       "      <td>26.222857</td>\n",
       "      <td>25.101429</td>\n",
       "      <td>25.421429</td>\n",
       "    </tr>\n",
       "    <tr>\n",
       "      <th>29</th>\n",
       "      <td>2013-02-13</td>\n",
       "      <td>13</td>\n",
       "      <td>2</td>\n",
       "      <td>2013</td>\n",
       "      <td>25.842857</td>\n",
       "      <td>26.628571</td>\n",
       "      <td>25.665714</td>\n",
       "      <td>26.610001</td>\n",
       "    </tr>\n",
       "  </tbody>\n",
       "</table>\n",
       "</div>"
      ],
      "text/plain": [
       "          Time  Day  Month  Year       Open       High        Low      Close\n",
       "25  2013-02-07    7      2  2013  26.535715  26.982857  25.505714  25.994286\n",
       "26  2013-02-08    8      2  2013  25.962856  26.280001  25.715714  25.852858\n",
       "27  2013-02-11   11      2  2013  25.568571  26.007143  24.971428  25.412857\n",
       "28  2013-02-12   12      2  2013  25.808571  26.222857  25.101429  25.421429\n",
       "29  2013-02-13   13      2  2013  25.842857  26.628571  25.665714  26.610001"
      ]
     },
     "execution_count": 407,
     "metadata": {},
     "output_type": "execute_result"
    }
   ],
   "source": [
    "tailored.head(30).tail(5)"
   ]
  },
  {
   "cell_type": "code",
   "execution_count": 408,
   "metadata": {
    "collapsed": true
   },
   "outputs": [],
   "source": [
    "tailored.set_index(\"Time\", inplace = True)"
   ]
  },
  {
   "cell_type": "code",
   "execution_count": 409,
   "metadata": {},
   "outputs": [
    {
     "name": "stdout",
     "output_type": "stream",
     "text": [
      "<class 'pandas.core.frame.DataFrame'>\n",
      "Index: 1259 entries, 2013-01-02 to 2017-12-29\n",
      "Data columns (total 7 columns):\n",
      "Day      1259 non-null int64\n",
      "Month    1259 non-null int64\n",
      "Year     1259 non-null int64\n",
      "Open     1259 non-null float64\n",
      "High     1259 non-null float64\n",
      "Low      1259 non-null float64\n",
      "Close    1259 non-null float64\n",
      "dtypes: float64(4), int64(3)\n",
      "memory usage: 78.7+ KB\n"
     ]
    }
   ],
   "source": [
    "tailored.info()"
   ]
  },
  {
   "cell_type": "markdown",
   "metadata": {},
   "source": [
    "The index is now set to the column \"Time\". But we need to chage it from index to datetime index"
   ]
  },
  {
   "cell_type": "code",
   "execution_count": 410,
   "metadata": {
    "collapsed": true
   },
   "outputs": [],
   "source": [
    "tailored.index = pd.to_datetime(tailored.index)"
   ]
  },
  {
   "cell_type": "code",
   "execution_count": 411,
   "metadata": {},
   "outputs": [
    {
     "name": "stdout",
     "output_type": "stream",
     "text": [
      "<class 'pandas.core.frame.DataFrame'>\n",
      "DatetimeIndex: 1259 entries, 2013-01-02 to 2017-12-29\n",
      "Data columns (total 7 columns):\n",
      "Day      1259 non-null int64\n",
      "Month    1259 non-null int64\n",
      "Year     1259 non-null int64\n",
      "Open     1259 non-null float64\n",
      "High     1259 non-null float64\n",
      "Low      1259 non-null float64\n",
      "Close    1259 non-null float64\n",
      "dtypes: float64(4), int64(3)\n",
      "memory usage: 78.7 KB\n"
     ]
    }
   ],
   "source": [
    "tailored.info()"
   ]
  },
  {
   "cell_type": "markdown",
   "metadata": {
    "collapsed": true
   },
   "source": [
    "We want to drop the Day, Month and Year columns now that we have that information in the datetime index"
   ]
  },
  {
   "cell_type": "code",
   "execution_count": 412,
   "metadata": {
    "collapsed": true
   },
   "outputs": [],
   "source": [
    "tailor1 = tailored.drop([\"Day\"], axis = 1)\n",
    "tailor2 = tailor1.drop([\"Month\"], axis = 1)\n",
    "df1 = tailor2.drop([\"Year\"], axis = 1)\n",
    "\n"
   ]
  },
  {
   "cell_type": "code",
   "execution_count": 413,
   "metadata": {},
   "outputs": [
    {
     "name": "stdout",
     "output_type": "stream",
     "text": [
      "<class 'pandas.core.frame.DataFrame'>\n",
      "DatetimeIndex: 1259 entries, 2013-01-02 to 2017-12-29\n",
      "Data columns (total 4 columns):\n",
      "Open     1259 non-null float64\n",
      "High     1259 non-null float64\n",
      "Low      1259 non-null float64\n",
      "Close    1259 non-null float64\n",
      "dtypes: float64(4)\n",
      "memory usage: 49.2 KB\n"
     ]
    }
   ],
   "source": [
    "df1.info()"
   ]
  },
  {
   "cell_type": "markdown",
   "metadata": {},
   "source": [
    "This example shows how the dataset entries can be accessed "
   ]
  },
  {
   "cell_type": "code",
   "execution_count": 414,
   "metadata": {
    "collapsed": true
   },
   "outputs": [],
   "source": [
    "day9 = df1[df1.index.day == 9]"
   ]
  },
  {
   "cell_type": "code",
   "execution_count": 415,
   "metadata": {},
   "outputs": [
    {
     "data": {
      "text/plain": [
       "Open     42\n",
       "High     42\n",
       "Low      42\n",
       "Close    42\n",
       "dtype: int64"
      ]
     },
     "execution_count": 415,
     "metadata": {},
     "output_type": "execute_result"
    }
   ],
   "source": [
    "day9.count()"
   ]
  },
  {
   "cell_type": "code",
   "execution_count": 416,
   "metadata": {},
   "outputs": [
    {
     "data": {
      "text/html": [
       "<div>\n",
       "<style>\n",
       "    .dataframe thead tr:only-child th {\n",
       "        text-align: right;\n",
       "    }\n",
       "\n",
       "    .dataframe thead th {\n",
       "        text-align: left;\n",
       "    }\n",
       "\n",
       "    .dataframe tbody tr th {\n",
       "        vertical-align: top;\n",
       "    }\n",
       "</style>\n",
       "<table border=\"1\" class=\"dataframe\">\n",
       "  <thead>\n",
       "    <tr style=\"text-align: right;\">\n",
       "      <th></th>\n",
       "      <th>Open</th>\n",
       "      <th>High</th>\n",
       "      <th>Low</th>\n",
       "      <th>Close</th>\n",
       "    </tr>\n",
       "    <tr>\n",
       "      <th>Time</th>\n",
       "      <th></th>\n",
       "      <th></th>\n",
       "      <th></th>\n",
       "      <th></th>\n",
       "    </tr>\n",
       "  </thead>\n",
       "  <tbody>\n",
       "    <tr>\n",
       "      <th>2017-05-09</th>\n",
       "      <td>156.100006</td>\n",
       "      <td>157.850006</td>\n",
       "      <td>155.970001</td>\n",
       "      <td>157.460007</td>\n",
       "    </tr>\n",
       "    <tr>\n",
       "      <th>2017-06-09</th>\n",
       "      <td>166.270004</td>\n",
       "      <td>166.270004</td>\n",
       "      <td>154.500000</td>\n",
       "      <td>158.029999</td>\n",
       "    </tr>\n",
       "    <tr>\n",
       "      <th>2017-08-09</th>\n",
       "      <td>171.429993</td>\n",
       "      <td>175.960007</td>\n",
       "      <td>170.009995</td>\n",
       "      <td>175.779999</td>\n",
       "    </tr>\n",
       "    <tr>\n",
       "      <th>2017-10-09</th>\n",
       "      <td>199.100006</td>\n",
       "      <td>199.399994</td>\n",
       "      <td>196.559998</td>\n",
       "      <td>196.869995</td>\n",
       "    </tr>\n",
       "    <tr>\n",
       "      <th>2017-11-09</th>\n",
       "      <td>194.460007</td>\n",
       "      <td>194.490005</td>\n",
       "      <td>190.809998</td>\n",
       "      <td>193.899994</td>\n",
       "    </tr>\n",
       "  </tbody>\n",
       "</table>\n",
       "</div>"
      ],
      "text/plain": [
       "                  Open        High         Low       Close\n",
       "Time                                                      \n",
       "2017-05-09  156.100006  157.850006  155.970001  157.460007\n",
       "2017-06-09  166.270004  166.270004  154.500000  158.029999\n",
       "2017-08-09  171.429993  175.960007  170.009995  175.779999\n",
       "2017-10-09  199.100006  199.399994  196.559998  196.869995\n",
       "2017-11-09  194.460007  194.490005  190.809998  193.899994"
      ]
     },
     "execution_count": 416,
     "metadata": {},
     "output_type": "execute_result"
    }
   ],
   "source": [
    "day9.head(200).tail(5)"
   ]
  },
  {
   "cell_type": "markdown",
   "metadata": {},
   "source": [
    "# Data Analysis\n"
   ]
  },
  {
   "cell_type": "markdown",
   "metadata": {
    "collapsed": true
   },
   "source": [
    "This plot just plots the entire dataset, so it would be on a daily basis. As we can see from the graph, there is a positive correlation between the rise in the prices of the stock. On a daily basis the prices can rise and fall dramatically"
   ]
  },
  {
   "cell_type": "code",
   "execution_count": 417,
   "metadata": {},
   "outputs": [
    {
     "data": {
      "text/plain": [
       "Text(0,0.5,'Price of Stock')"
      ]
     },
     "execution_count": 417,
     "metadata": {},
     "output_type": "execute_result"
    },
    {
     "data": {
      "image/png": "[encoded data removed]",
      "text/plain": [
       "<matplotlib.figure.Figure at 0x24ec9ad21d0>"
      ]
     },
     "metadata": {},
     "output_type": "display_data"
    }
   ],
   "source": [
    "p = df1.plot(figsize=(10, 6), fontsize=13, title = \"Stock prices for entire dataset\")\n",
    "p.set_xlabel(\"Timeline\",fontsize=13)\n",
    "p.set_ylabel(\"Price of Stock\",fontsize=13)"
   ]
  },
  {
   "cell_type": "markdown",
   "metadata": {},
   "source": [
    "I wanted to investigate the relationship between High and Low seeing as they are opposites of each other. I was particularly interested in the size of the difference between. For this I dropped the \"Open\" and \"Close\" columns from the dataset"
   ]
  },
  {
   "cell_type": "code",
   "execution_count": 418,
   "metadata": {},
   "outputs": [
    {
     "data": {
      "text/html": [
       "<div>\n",
       "<style>\n",
       "    .dataframe thead tr:only-child th {\n",
       "        text-align: right;\n",
       "    }\n",
       "\n",
       "    .dataframe thead th {\n",
       "        text-align: left;\n",
       "    }\n",
       "\n",
       "    .dataframe tbody tr th {\n",
       "        vertical-align: top;\n",
       "    }\n",
       "</style>\n",
       "<table border=\"1\" class=\"dataframe\">\n",
       "  <thead>\n",
       "    <tr style=\"text-align: right;\">\n",
       "      <th></th>\n",
       "      <th>High</th>\n",
       "      <th>Low</th>\n",
       "    </tr>\n",
       "    <tr>\n",
       "      <th>Time</th>\n",
       "      <th></th>\n",
       "      <th></th>\n",
       "    </tr>\n",
       "  </thead>\n",
       "  <tbody>\n",
       "    <tr>\n",
       "      <th>2013-01-02</th>\n",
       "      <td>13.687143</td>\n",
       "      <td>12.955714</td>\n",
       "    </tr>\n",
       "    <tr>\n",
       "      <th>2013-01-03</th>\n",
       "      <td>13.988571</td>\n",
       "      <td>13.075714</td>\n",
       "    </tr>\n",
       "    <tr>\n",
       "      <th>2013-01-04</th>\n",
       "      <td>13.958571</td>\n",
       "      <td>13.648571</td>\n",
       "    </tr>\n",
       "  </tbody>\n",
       "</table>\n",
       "</div>"
      ],
      "text/plain": [
       "                 High        Low\n",
       "Time                            \n",
       "2013-01-02  13.687143  12.955714\n",
       "2013-01-03  13.988571  13.075714\n",
       "2013-01-04  13.958571  13.648571"
      ]
     },
     "execution_count": 418,
     "metadata": {},
     "output_type": "execute_result"
    }
   ],
   "source": [
    "hold = df1.drop([\"Open\"], axis = 1)\n",
    "df_high_low = hold.drop([\"Close\"], axis = 1)\n",
    "df_high_low.head(3)"
   ]
  },
  {
   "cell_type": "markdown",
   "metadata": {},
   "source": [
    "Inserting a new column that will store the difference between the two"
   ]
  },
  {
   "cell_type": "code",
   "execution_count": 419,
   "metadata": {},
   "outputs": [
    {
     "data": {
      "text/html": [
       "<div>\n",
       "<style>\n",
       "    .dataframe thead tr:only-child th {\n",
       "        text-align: right;\n",
       "    }\n",
       "\n",
       "    .dataframe thead th {\n",
       "        text-align: left;\n",
       "    }\n",
       "\n",
       "    .dataframe tbody tr th {\n",
       "        vertical-align: top;\n",
       "    }\n",
       "</style>\n",
       "<table border=\"1\" class=\"dataframe\">\n",
       "  <thead>\n",
       "    <tr style=\"text-align: right;\">\n",
       "      <th></th>\n",
       "      <th>High</th>\n",
       "      <th>Low</th>\n",
       "      <th>Difference</th>\n",
       "    </tr>\n",
       "    <tr>\n",
       "      <th>Time</th>\n",
       "      <th></th>\n",
       "      <th></th>\n",
       "      <th></th>\n",
       "    </tr>\n",
       "  </thead>\n",
       "  <tbody>\n",
       "    <tr>\n",
       "      <th>2013-01-02</th>\n",
       "      <td>13.687143</td>\n",
       "      <td>12.955714</td>\n",
       "      <td></td>\n",
       "    </tr>\n",
       "    <tr>\n",
       "      <th>2013-01-03</th>\n",
       "      <td>13.988571</td>\n",
       "      <td>13.075714</td>\n",
       "      <td></td>\n",
       "    </tr>\n",
       "    <tr>\n",
       "      <th>2013-01-04</th>\n",
       "      <td>13.958571</td>\n",
       "      <td>13.648571</td>\n",
       "      <td></td>\n",
       "    </tr>\n",
       "  </tbody>\n",
       "</table>\n",
       "</div>"
      ],
      "text/plain": [
       "                 High        Low Difference\n",
       "Time                                       \n",
       "2013-01-02  13.687143  12.955714           \n",
       "2013-01-03  13.988571  13.075714           \n",
       "2013-01-04  13.958571  13.648571           "
      ]
     },
     "execution_count": 419,
     "metadata": {},
     "output_type": "execute_result"
    }
   ],
   "source": [
    "df_high_low.insert(2, 'Difference', \"\")\n",
    "df_high_low.head(3)"
   ]
  },
  {
   "cell_type": "code",
   "execution_count": 420,
   "metadata": {
    "collapsed": true
   },
   "outputs": [],
   "source": [
    "for x in range(len(df_high_low)):\n",
    "    index = df_high_low.iloc[x].name\n",
    "    high = df_high_low.High.iloc[x]\n",
    "    low = df_high_low.Low.iloc[x]\n",
    "    \n",
    "    result = high - low\n",
    "    df_high_low.set_value(index, \"Difference\", result)\n",
    "    "
   ]
  },
  {
   "cell_type": "code",
   "execution_count": 421,
   "metadata": {},
   "outputs": [
    {
     "data": {
      "text/html": [
       "<div>\n",
       "<style>\n",
       "    .dataframe thead tr:only-child th {\n",
       "        text-align: right;\n",
       "    }\n",
       "\n",
       "    .dataframe thead th {\n",
       "        text-align: left;\n",
       "    }\n",
       "\n",
       "    .dataframe tbody tr th {\n",
       "        vertical-align: top;\n",
       "    }\n",
       "</style>\n",
       "<table border=\"1\" class=\"dataframe\">\n",
       "  <thead>\n",
       "    <tr style=\"text-align: right;\">\n",
       "      <th></th>\n",
       "      <th>High</th>\n",
       "      <th>Low</th>\n",
       "      <th>Difference</th>\n",
       "    </tr>\n",
       "    <tr>\n",
       "      <th>Time</th>\n",
       "      <th></th>\n",
       "      <th></th>\n",
       "      <th></th>\n",
       "    </tr>\n",
       "  </thead>\n",
       "  <tbody>\n",
       "    <tr>\n",
       "      <th>2013-01-02</th>\n",
       "      <td>13.687143</td>\n",
       "      <td>12.955714</td>\n",
       "      <td>0.731429</td>\n",
       "    </tr>\n",
       "    <tr>\n",
       "      <th>2013-01-03</th>\n",
       "      <td>13.988571</td>\n",
       "      <td>13.075714</td>\n",
       "      <td>0.912857</td>\n",
       "    </tr>\n",
       "    <tr>\n",
       "      <th>2013-01-04</th>\n",
       "      <td>13.958571</td>\n",
       "      <td>13.648571</td>\n",
       "      <td>0.31</td>\n",
       "    </tr>\n",
       "  </tbody>\n",
       "</table>\n",
       "</div>"
      ],
      "text/plain": [
       "                 High        Low Difference\n",
       "Time                                       \n",
       "2013-01-02  13.687143  12.955714   0.731429\n",
       "2013-01-03  13.988571  13.075714   0.912857\n",
       "2013-01-04  13.958571  13.648571       0.31"
      ]
     },
     "execution_count": 421,
     "metadata": {},
     "output_type": "execute_result"
    }
   ],
   "source": [
    "df_high_low.head(3)"
   ]
  },
  {
   "cell_type": "code",
   "execution_count": 422,
   "metadata": {},
   "outputs": [
    {
     "data": {
      "text/plain": [
       "Text(0,0.5,'Price of Stocks')"
      ]
     },
     "execution_count": 422,
     "metadata": {},
     "output_type": "execute_result"
    },
    {
     "data": {
      "image/png": "[encoded data removed]",
      "text/plain": [
       "<matplotlib.figure.Figure at 0x24ec9948860>"
      ]
     },
     "metadata": {},
     "output_type": "display_data"
    }
   ],
   "source": [
    "ts18 = df_high_low.plot(figsize=(10, 6), fontsize=13, title = \"Difference between High and Low stock prices values\")\n",
    "ts18.set_xlabel(\"Time Period\",fontsize=13)\n",
    "ts18.set_ylabel(\"Price of Stocks\",fontsize=13)"
   ]
  },
  {
   "cell_type": "markdown",
   "metadata": {},
   "source": [
    "The graph above shows the high and low stock prices, with the green line below indicating the difference between the two for a given day"
   ]
  },
  {
   "cell_type": "code",
   "execution_count": 423,
   "metadata": {
    "collapsed": true
   },
   "outputs": [],
   "source": [
    "df_high_low1.Difference = df_high_low1.Difference.astype(float)"
   ]
  },
  {
   "cell_type": "code",
   "execution_count": 424,
   "metadata": {},
   "outputs": [
    {
     "name": "stdout",
     "output_type": "stream",
     "text": [
      "<class 'pandas.core.frame.DataFrame'>\n",
      "DatetimeIndex: 1259 entries, 2013-01-02 to 2017-12-29\n",
      "Data columns (total 3 columns):\n",
      "High          1259 non-null float64\n",
      "Low           1259 non-null float64\n",
      "Difference    1259 non-null float64\n",
      "dtypes: float64(3)\n",
      "memory usage: 79.3 KB\n"
     ]
    }
   ],
   "source": [
    "df_high_low1.info()"
   ]
  },
  {
   "cell_type": "code",
   "execution_count": 425,
   "metadata": {},
   "outputs": [
    {
     "data": {
      "text/html": [
       "<div>\n",
       "<style>\n",
       "    .dataframe thead tr:only-child th {\n",
       "        text-align: right;\n",
       "    }\n",
       "\n",
       "    .dataframe thead th {\n",
       "        text-align: left;\n",
       "    }\n",
       "\n",
       "    .dataframe tbody tr th {\n",
       "        vertical-align: top;\n",
       "    }\n",
       "</style>\n",
       "<table border=\"1\" class=\"dataframe\">\n",
       "  <thead>\n",
       "    <tr style=\"text-align: right;\">\n",
       "      <th></th>\n",
       "      <th>High</th>\n",
       "      <th>Low</th>\n",
       "      <th>Difference</th>\n",
       "    </tr>\n",
       "    <tr>\n",
       "      <th>Time</th>\n",
       "      <th></th>\n",
       "      <th></th>\n",
       "      <th></th>\n",
       "    </tr>\n",
       "  </thead>\n",
       "  <tbody>\n",
       "    <tr>\n",
       "      <th>2017-11-29</th>\n",
       "      <td>199.029999</td>\n",
       "      <td>184.320007</td>\n",
       "      <td>10.760010</td>\n",
       "    </tr>\n",
       "    <tr>\n",
       "      <th>2013-10-22</th>\n",
       "      <td>55.594284</td>\n",
       "      <td>45.928570</td>\n",
       "      <td>9.331429</td>\n",
       "    </tr>\n",
       "    <tr>\n",
       "      <th>2017-06-09</th>\n",
       "      <td>166.270004</td>\n",
       "      <td>154.500000</td>\n",
       "      <td>8.240005</td>\n",
       "    </tr>\n",
       "    <tr>\n",
       "      <th>2017-09-25</th>\n",
       "      <td>186.550003</td>\n",
       "      <td>177.699997</td>\n",
       "      <td>7.910004</td>\n",
       "    </tr>\n",
       "    <tr>\n",
       "      <th>2016-01-13</th>\n",
       "      <td>114.480003</td>\n",
       "      <td>104.529999</td>\n",
       "      <td>7.870002</td>\n",
       "    </tr>\n",
       "    <tr>\n",
       "      <th>2016-11-10</th>\n",
       "      <td>122.970001</td>\n",
       "      <td>113.699997</td>\n",
       "      <td>7.340004</td>\n",
       "    </tr>\n",
       "    <tr>\n",
       "      <th>2015-08-20</th>\n",
       "      <td>121.449997</td>\n",
       "      <td>111.339996</td>\n",
       "      <td>7.310005</td>\n",
       "    </tr>\n",
       "    <tr>\n",
       "      <th>2017-07-27</th>\n",
       "      <td>190.000000</td>\n",
       "      <td>179.380005</td>\n",
       "      <td>7.210006</td>\n",
       "    </tr>\n",
       "    <tr>\n",
       "      <th>2015-09-08</th>\n",
       "      <td>102.500000</td>\n",
       "      <td>93.550003</td>\n",
       "      <td>7.130005</td>\n",
       "    </tr>\n",
       "    <tr>\n",
       "      <th>2015-08-25</th>\n",
       "      <td>107.879997</td>\n",
       "      <td>101.500000</td>\n",
       "      <td>6.230003</td>\n",
       "    </tr>\n",
       "  </tbody>\n",
       "</table>\n",
       "</div>"
      ],
      "text/plain": [
       "                  High         Low  Difference\n",
       "Time                                          \n",
       "2017-11-29  199.029999  184.320007   10.760010\n",
       "2013-10-22   55.594284   45.928570    9.331429\n",
       "2017-06-09  166.270004  154.500000    8.240005\n",
       "2017-09-25  186.550003  177.699997    7.910004\n",
       "2016-01-13  114.480003  104.529999    7.870002\n",
       "2016-11-10  122.970001  113.699997    7.340004\n",
       "2015-08-20  121.449997  111.339996    7.310005\n",
       "2017-07-27  190.000000  179.380005    7.210006\n",
       "2015-09-08  102.500000   93.550003    7.130005\n",
       "2015-08-25  107.879997  101.500000    6.230003"
      ]
     },
     "execution_count": 425,
     "metadata": {},
     "output_type": "execute_result"
    }
   ],
   "source": [
    "df_high_low1.nlargest(10, 'Difference')"
   ]
  },
  {
   "cell_type": "markdown",
   "metadata": {},
   "source": [
    "As we can see from the results of the table above, the largest difference between the two occured on the 24th August 2015. We can now go and investigate that date in the full dataset"
   ]
  },
  {
   "cell_type": "markdown",
   "metadata": {},
   "source": [
    "Viewing the entry that has the largest difference between its high and low prices"
   ]
  },
  {
   "cell_type": "code",
   "execution_count": 426,
   "metadata": {},
   "outputs": [
    {
     "data": {
      "text/html": [
       "<div>\n",
       "<style>\n",
       "    .dataframe thead tr:only-child th {\n",
       "        text-align: right;\n",
       "    }\n",
       "\n",
       "    .dataframe thead th {\n",
       "        text-align: left;\n",
       "    }\n",
       "\n",
       "    .dataframe tbody tr th {\n",
       "        vertical-align: top;\n",
       "    }\n",
       "</style>\n",
       "<table border=\"1\" class=\"dataframe\">\n",
       "  <thead>\n",
       "    <tr style=\"text-align: right;\">\n",
       "      <th></th>\n",
       "      <th>Open</th>\n",
       "      <th>High</th>\n",
       "      <th>Low</th>\n",
       "      <th>Close</th>\n",
       "    </tr>\n",
       "    <tr>\n",
       "      <th>Time</th>\n",
       "      <th></th>\n",
       "      <th></th>\n",
       "      <th></th>\n",
       "      <th></th>\n",
       "    </tr>\n",
       "  </thead>\n",
       "  <tbody>\n",
       "    <tr>\n",
       "      <th>2015-08-24</th>\n",
       "      <td>88.75</td>\n",
       "      <td>109.629997</td>\n",
       "      <td>85.5</td>\n",
       "      <td>96.879997</td>\n",
       "    </tr>\n",
       "  </tbody>\n",
       "</table>\n",
       "</div>"
      ],
      "text/plain": [
       "             Open        High   Low      Close\n",
       "Time                                          \n",
       "2015-08-24  88.75  109.629997  85.5  96.879997"
      ]
     },
     "execution_count": 426,
     "metadata": {},
     "output_type": "execute_result"
    }
   ],
   "source": [
    "df1[\"2015-08-24\":\"2015-08-24\"]"
   ]
  },
  {
   "cell_type": "markdown",
   "metadata": {},
   "source": [
    "I decided to do the same for Open and Close to see if there were any similarities between the two"
   ]
  },
  {
   "cell_type": "code",
   "execution_count": 427,
   "metadata": {
    "collapsed": true
   },
   "outputs": [],
   "source": [
    "hold1 = df1.drop([\"High\"], axis = 1)\n",
    "df_open_close = hold1.drop([\"Low\"], axis = 1)\n",
    "df_open_close.insert(2, 'Difference', \" \")"
   ]
  },
  {
   "cell_type": "code",
   "execution_count": 428,
   "metadata": {
    "collapsed": true
   },
   "outputs": [],
   "source": [
    "for x in range(len(df_open_close)):\n",
    "    index = df_open_close.iloc[x].name\n",
    "    open1 = df_open_close.Open.iloc[x]\n",
    "    close1 = df_open_close.Close.iloc[x]\n",
    "    \n",
    "    result = open1 - close1\n",
    "    df_open_close.set_value(index, \"Difference\", result)\n",
    "    "
   ]
  },
  {
   "cell_type": "code",
   "execution_count": 429,
   "metadata": {},
   "outputs": [
    {
     "data": {
      "text/plain": [
       "Text(0,0.5,'Price of Stocks')"
      ]
     },
     "execution_count": 429,
     "metadata": {},
     "output_type": "execute_result"
    },
    {
     "data": {
      "image/png": "[encoded data removed]",
      "text/plain": [
       "<matplotlib.figure.Figure at 0x24ec97e4710>"
      ]
     },
     "metadata": {},
     "output_type": "display_data"
    }
   ],
   "source": [
    "ts20 = df_open_close.plot(figsize=(10, 6), fontsize=13, title = \"Difference between Opening and Closing Prices\")\n",
    "ts20.set_xlabel(\"Timeline\",fontsize=13)\n",
    "ts20.set_ylabel(\"Price of Stocks\",fontsize=13)"
   ]
  },
  {
   "cell_type": "code",
   "execution_count": 430,
   "metadata": {},
   "outputs": [
    {
     "data": {
      "text/html": [
       "<div>\n",
       "<style>\n",
       "    .dataframe thead tr:only-child th {\n",
       "        text-align: right;\n",
       "    }\n",
       "\n",
       "    .dataframe thead th {\n",
       "        text-align: left;\n",
       "    }\n",
       "\n",
       "    .dataframe tbody tr th {\n",
       "        vertical-align: top;\n",
       "    }\n",
       "</style>\n",
       "<table border=\"1\" class=\"dataframe\">\n",
       "  <thead>\n",
       "    <tr style=\"text-align: right;\">\n",
       "      <th></th>\n",
       "      <th>High</th>\n",
       "      <th>Low</th>\n",
       "      <th>Difference</th>\n",
       "    </tr>\n",
       "    <tr>\n",
       "      <th>Time</th>\n",
       "      <th></th>\n",
       "      <th></th>\n",
       "      <th></th>\n",
       "    </tr>\n",
       "  </thead>\n",
       "  <tbody>\n",
       "    <tr>\n",
       "      <th>2017-11-29</th>\n",
       "      <td>199.029999</td>\n",
       "      <td>184.320007</td>\n",
       "      <td>10.760010</td>\n",
       "    </tr>\n",
       "    <tr>\n",
       "      <th>2013-10-22</th>\n",
       "      <td>55.594284</td>\n",
       "      <td>45.928570</td>\n",
       "      <td>9.331429</td>\n",
       "    </tr>\n",
       "    <tr>\n",
       "      <th>2017-06-09</th>\n",
       "      <td>166.270004</td>\n",
       "      <td>154.500000</td>\n",
       "      <td>8.240005</td>\n",
       "    </tr>\n",
       "    <tr>\n",
       "      <th>2017-09-25</th>\n",
       "      <td>186.550003</td>\n",
       "      <td>177.699997</td>\n",
       "      <td>7.910004</td>\n",
       "    </tr>\n",
       "    <tr>\n",
       "      <th>2016-01-13</th>\n",
       "      <td>114.480003</td>\n",
       "      <td>104.529999</td>\n",
       "      <td>7.870002</td>\n",
       "    </tr>\n",
       "    <tr>\n",
       "      <th>2016-11-10</th>\n",
       "      <td>122.970001</td>\n",
       "      <td>113.699997</td>\n",
       "      <td>7.340004</td>\n",
       "    </tr>\n",
       "    <tr>\n",
       "      <th>2015-08-20</th>\n",
       "      <td>121.449997</td>\n",
       "      <td>111.339996</td>\n",
       "      <td>7.310005</td>\n",
       "    </tr>\n",
       "    <tr>\n",
       "      <th>2017-07-27</th>\n",
       "      <td>190.000000</td>\n",
       "      <td>179.380005</td>\n",
       "      <td>7.210006</td>\n",
       "    </tr>\n",
       "    <tr>\n",
       "      <th>2015-09-08</th>\n",
       "      <td>102.500000</td>\n",
       "      <td>93.550003</td>\n",
       "      <td>7.130005</td>\n",
       "    </tr>\n",
       "    <tr>\n",
       "      <th>2015-08-25</th>\n",
       "      <td>107.879997</td>\n",
       "      <td>101.500000</td>\n",
       "      <td>6.230003</td>\n",
       "    </tr>\n",
       "  </tbody>\n",
       "</table>\n",
       "</div>"
      ],
      "text/plain": [
       "                  High         Low  Difference\n",
       "Time                                          \n",
       "2017-11-29  199.029999  184.320007   10.760010\n",
       "2013-10-22   55.594284   45.928570    9.331429\n",
       "2017-06-09  166.270004  154.500000    8.240005\n",
       "2017-09-25  186.550003  177.699997    7.910004\n",
       "2016-01-13  114.480003  104.529999    7.870002\n",
       "2016-11-10  122.970001  113.699997    7.340004\n",
       "2015-08-20  121.449997  111.339996    7.310005\n",
       "2017-07-27  190.000000  179.380005    7.210006\n",
       "2015-09-08  102.500000   93.550003    7.130005\n",
       "2015-08-25  107.879997  101.500000    6.230003"
      ]
     },
     "execution_count": 430,
     "metadata": {},
     "output_type": "execute_result"
    }
   ],
   "source": [
    "df_high_low1.nlargest(10, 'Difference')"
   ]
  },
  {
   "cell_type": "markdown",
   "metadata": {},
   "source": [
    "Judging these results, it seems that there is a greater difference between High and Low than there is of Open and Close. Due to my limited knowledge of stock prices I am not sure if that is to be expected"
   ]
  },
  {
   "cell_type": "code",
   "execution_count": 431,
   "metadata": {},
   "outputs": [
    {
     "data": {
      "text/html": [
       "<div>\n",
       "<style>\n",
       "    .dataframe thead tr:only-child th {\n",
       "        text-align: right;\n",
       "    }\n",
       "\n",
       "    .dataframe thead th {\n",
       "        text-align: left;\n",
       "    }\n",
       "\n",
       "    .dataframe tbody tr th {\n",
       "        vertical-align: top;\n",
       "    }\n",
       "</style>\n",
       "<table border=\"1\" class=\"dataframe\">\n",
       "  <thead>\n",
       "    <tr style=\"text-align: right;\">\n",
       "      <th></th>\n",
       "      <th>Open</th>\n",
       "      <th>High</th>\n",
       "      <th>Low</th>\n",
       "      <th>Close</th>\n",
       "    </tr>\n",
       "    <tr>\n",
       "      <th>Time</th>\n",
       "      <th></th>\n",
       "      <th></th>\n",
       "      <th></th>\n",
       "      <th></th>\n",
       "    </tr>\n",
       "  </thead>\n",
       "  <tbody>\n",
       "    <tr>\n",
       "      <th>1</th>\n",
       "      <td>71.363748</td>\n",
       "      <td>72.584045</td>\n",
       "      <td>69.827001</td>\n",
       "      <td>71.263805</td>\n",
       "    </tr>\n",
       "    <tr>\n",
       "      <th>2</th>\n",
       "      <td>77.294970</td>\n",
       "      <td>78.426875</td>\n",
       "      <td>76.178929</td>\n",
       "      <td>77.391429</td>\n",
       "    </tr>\n",
       "    <tr>\n",
       "      <th>3</th>\n",
       "      <td>80.001429</td>\n",
       "      <td>80.919854</td>\n",
       "      <td>78.948082</td>\n",
       "      <td>79.879008</td>\n",
       "    </tr>\n",
       "    <tr>\n",
       "      <th>4</th>\n",
       "      <td>77.006387</td>\n",
       "      <td>77.956085</td>\n",
       "      <td>75.761319</td>\n",
       "      <td>76.872129</td>\n",
       "    </tr>\n",
       "    <tr>\n",
       "      <th>5</th>\n",
       "      <td>84.016389</td>\n",
       "      <td>85.169703</td>\n",
       "      <td>83.148154</td>\n",
       "      <td>84.299703</td>\n",
       "    </tr>\n",
       "    <tr>\n",
       "      <th>6</th>\n",
       "      <td>88.970641</td>\n",
       "      <td>89.869733</td>\n",
       "      <td>87.647343</td>\n",
       "      <td>88.726662</td>\n",
       "    </tr>\n",
       "    <tr>\n",
       "      <th>7</th>\n",
       "      <td>91.372561</td>\n",
       "      <td>92.725040</td>\n",
       "      <td>90.137062</td>\n",
       "      <td>91.598396</td>\n",
       "    </tr>\n",
       "    <tr>\n",
       "      <th>8</th>\n",
       "      <td>98.323286</td>\n",
       "      <td>99.881740</td>\n",
       "      <td>96.981870</td>\n",
       "      <td>98.489896</td>\n",
       "    </tr>\n",
       "    <tr>\n",
       "      <th>9</th>\n",
       "      <td>97.596117</td>\n",
       "      <td>98.873731</td>\n",
       "      <td>96.209001</td>\n",
       "      <td>97.544980</td>\n",
       "    </tr>\n",
       "    <tr>\n",
       "      <th>10</th>\n",
       "      <td>102.291609</td>\n",
       "      <td>104.024723</td>\n",
       "      <td>100.751416</td>\n",
       "      <td>102.573938</td>\n",
       "    </tr>\n",
       "    <tr>\n",
       "      <th>11</th>\n",
       "      <td>107.982857</td>\n",
       "      <td>109.338359</td>\n",
       "      <td>106.426294</td>\n",
       "      <td>107.918967</td>\n",
       "    </tr>\n",
       "    <tr>\n",
       "      <th>12</th>\n",
       "      <td>105.789151</td>\n",
       "      <td>107.142830</td>\n",
       "      <td>104.251604</td>\n",
       "      <td>105.671887</td>\n",
       "    </tr>\n",
       "  </tbody>\n",
       "</table>\n",
       "</div>"
      ],
      "text/plain": [
       "            Open        High         Low       Close\n",
       "Time                                                \n",
       "1      71.363748   72.584045   69.827001   71.263805\n",
       "2      77.294970   78.426875   76.178929   77.391429\n",
       "3      80.001429   80.919854   78.948082   79.879008\n",
       "4      77.006387   77.956085   75.761319   76.872129\n",
       "5      84.016389   85.169703   83.148154   84.299703\n",
       "6      88.970641   89.869733   87.647343   88.726662\n",
       "7      91.372561   92.725040   90.137062   91.598396\n",
       "8      98.323286   99.881740   96.981870   98.489896\n",
       "9      97.596117   98.873731   96.209001   97.544980\n",
       "10    102.291609  104.024723  100.751416  102.573938\n",
       "11    107.982857  109.338359  106.426294  107.918967\n",
       "12    105.789151  107.142830  104.251604  105.671887"
      ]
     },
     "execution_count": 431,
     "metadata": {},
     "output_type": "execute_result"
    }
   ],
   "source": [
    "df_month = df1.groupby(df1.index.month).mean()\n",
    "df_month.head(15)"
   ]
  },
  {
   "cell_type": "markdown",
   "metadata": {
    "collapsed": true
   },
   "source": [
    "This example groups the dates by month and calculates the average prices for each month. The results of this graph can be seen below. It seems that the average prices take a dip during the month of April. They take other slight dips on September(9th month) and December(12th month)"
   ]
  },
  {
   "cell_type": "code",
   "execution_count": 432,
   "metadata": {},
   "outputs": [
    {
     "data": {
      "text/plain": [
       "Text(0,0.5,'Price of Stocks')"
      ]
     },
     "execution_count": 432,
     "metadata": {},
     "output_type": "execute_result"
    },
    {
     "data": {
      "image/png": "[encoded data removed]",
      "text/plain": [
       "<matplotlib.figure.Figure at 0x24ec9987898>"
      ]
     },
     "metadata": {},
     "output_type": "display_data"
    }
   ],
   "source": [
    "ts5 = df_month.plot(figsize=(10, 6), fontsize=13, title = \"Average stock prices sorted by month\")\n",
    "ts5.set_xlabel(\"Months\",fontsize=13)\n",
    "ts5.set_ylabel(\"Price of Stocks\",fontsize=13)"
   ]
  },
  {
   "cell_type": "markdown",
   "metadata": {},
   "source": [
    "Since April is the month where the average stock prices appear to be the lowest, that month is the next point of interest. I will use a dataset that only contains entries with that month"
   ]
  },
  {
   "cell_type": "code",
   "execution_count": 433,
   "metadata": {
    "collapsed": true
   },
   "outputs": [],
   "source": [
    "april4 = df1[df1.index.month == 4]"
   ]
  },
  {
   "cell_type": "code",
   "execution_count": 434,
   "metadata": {},
   "outputs": [
    {
     "data": {
      "text/html": [
       "<div>\n",
       "<style>\n",
       "    .dataframe thead tr:only-child th {\n",
       "        text-align: right;\n",
       "    }\n",
       "\n",
       "    .dataframe thead th {\n",
       "        text-align: left;\n",
       "    }\n",
       "\n",
       "    .dataframe tbody tr th {\n",
       "        vertical-align: top;\n",
       "    }\n",
       "</style>\n",
       "<table border=\"1\" class=\"dataframe\">\n",
       "  <thead>\n",
       "    <tr style=\"text-align: right;\">\n",
       "      <th></th>\n",
       "      <th>Open</th>\n",
       "      <th>High</th>\n",
       "      <th>Low</th>\n",
       "      <th>Close</th>\n",
       "    </tr>\n",
       "    <tr>\n",
       "      <th>Time</th>\n",
       "      <th></th>\n",
       "      <th></th>\n",
       "      <th></th>\n",
       "      <th></th>\n",
       "    </tr>\n",
       "  </thead>\n",
       "  <tbody>\n",
       "    <tr>\n",
       "      <th>2017-04-26</th>\n",
       "      <td>151.529999</td>\n",
       "      <td>152.149994</td>\n",
       "      <td>148.899994</td>\n",
       "      <td>150.169998</td>\n",
       "    </tr>\n",
       "    <tr>\n",
       "      <th>2017-04-27</th>\n",
       "      <td>150.600006</td>\n",
       "      <td>153.490005</td>\n",
       "      <td>149.300003</td>\n",
       "      <td>153.080002</td>\n",
       "    </tr>\n",
       "    <tr>\n",
       "      <th>2017-04-28</th>\n",
       "      <td>152.710007</td>\n",
       "      <td>152.970001</td>\n",
       "      <td>150.940002</td>\n",
       "      <td>152.199997</td>\n",
       "    </tr>\n",
       "  </tbody>\n",
       "</table>\n",
       "</div>"
      ],
      "text/plain": [
       "                  Open        High         Low       Close\n",
       "Time                                                      \n",
       "2017-04-26  151.529999  152.149994  148.899994  150.169998\n",
       "2017-04-27  150.600006  153.490005  149.300003  153.080002\n",
       "2017-04-28  152.710007  152.970001  150.940002  152.199997"
      ]
     },
     "execution_count": 434,
     "metadata": {},
     "output_type": "execute_result"
    }
   ],
   "source": [
    "april4.tail(3)"
   ]
  },
  {
   "cell_type": "code",
   "execution_count": 435,
   "metadata": {
    "collapsed": true
   },
   "outputs": [],
   "source": [
    "ap4= april4.groupby(april4.index.day).mean()#Grouping the month by day and getting the average for each day"
   ]
  },
  {
   "cell_type": "code",
   "execution_count": 436,
   "metadata": {},
   "outputs": [
    {
     "data": {
      "text/html": [
       "<div>\n",
       "<style>\n",
       "    .dataframe thead tr:only-child th {\n",
       "        text-align: right;\n",
       "    }\n",
       "\n",
       "    .dataframe thead th {\n",
       "        text-align: left;\n",
       "    }\n",
       "\n",
       "    .dataframe tbody tr th {\n",
       "        vertical-align: top;\n",
       "    }\n",
       "</style>\n",
       "<table border=\"1\" class=\"dataframe\">\n",
       "  <thead>\n",
       "    <tr style=\"text-align: right;\">\n",
       "      <th></th>\n",
       "      <th>Open</th>\n",
       "      <th>High</th>\n",
       "      <th>Low</th>\n",
       "      <th>Close</th>\n",
       "    </tr>\n",
       "    <tr>\n",
       "      <th>Time</th>\n",
       "      <th></th>\n",
       "      <th></th>\n",
       "      <th></th>\n",
       "      <th></th>\n",
       "    </tr>\n",
       "  </thead>\n",
       "  <tbody>\n",
       "    <tr>\n",
       "      <th>1</th>\n",
       "      <td>60.025357</td>\n",
       "      <td>61.277857</td>\n",
       "      <td>59.336430</td>\n",
       "      <td>60.719285</td>\n",
       "    </tr>\n",
       "    <tr>\n",
       "      <th>2</th>\n",
       "      <td>45.860001</td>\n",
       "      <td>46.356190</td>\n",
       "      <td>45.068095</td>\n",
       "      <td>45.411904</td>\n",
       "    </tr>\n",
       "    <tr>\n",
       "      <th>3</th>\n",
       "      <td>74.537142</td>\n",
       "      <td>75.214284</td>\n",
       "      <td>73.073335</td>\n",
       "      <td>73.946189</td>\n",
       "    </tr>\n",
       "    <tr>\n",
       "      <th>4</th>\n",
       "      <td>81.857142</td>\n",
       "      <td>82.042856</td>\n",
       "      <td>79.868570</td>\n",
       "      <td>80.462499</td>\n",
       "    </tr>\n",
       "    <tr>\n",
       "      <th>5</th>\n",
       "      <td>91.006668</td>\n",
       "      <td>92.119048</td>\n",
       "      <td>89.909522</td>\n",
       "      <td>90.694285</td>\n",
       "    </tr>\n",
       "    <tr>\n",
       "      <th>6</th>\n",
       "      <td>102.689524</td>\n",
       "      <td>103.675715</td>\n",
       "      <td>101.908094</td>\n",
       "      <td>102.966670</td>\n",
       "    </tr>\n",
       "    <tr>\n",
       "      <th>7</th>\n",
       "      <td>89.310355</td>\n",
       "      <td>90.230000</td>\n",
       "      <td>88.413573</td>\n",
       "      <td>89.084999</td>\n",
       "    </tr>\n",
       "    <tr>\n",
       "      <th>8</th>\n",
       "      <td>59.647500</td>\n",
       "      <td>60.576787</td>\n",
       "      <td>58.764999</td>\n",
       "      <td>59.998927</td>\n",
       "    </tr>\n",
       "    <tr>\n",
       "      <th>9</th>\n",
       "      <td>45.500953</td>\n",
       "      <td>46.058096</td>\n",
       "      <td>44.761904</td>\n",
       "      <td>45.804286</td>\n",
       "    </tr>\n",
       "    <tr>\n",
       "      <th>10</th>\n",
       "      <td>70.519283</td>\n",
       "      <td>71.230356</td>\n",
       "      <td>69.107859</td>\n",
       "      <td>70.082858</td>\n",
       "    </tr>\n",
       "    <tr>\n",
       "      <th>11</th>\n",
       "      <td>79.923928</td>\n",
       "      <td>80.530713</td>\n",
       "      <td>78.736786</td>\n",
       "      <td>79.604644</td>\n",
       "    </tr>\n",
       "    <tr>\n",
       "      <th>12</th>\n",
       "      <td>91.094765</td>\n",
       "      <td>92.779049</td>\n",
       "      <td>90.072382</td>\n",
       "      <td>91.850954</td>\n",
       "    </tr>\n",
       "    <tr>\n",
       "      <th>13</th>\n",
       "      <td>106.496666</td>\n",
       "      <td>108.371905</td>\n",
       "      <td>105.899045</td>\n",
       "      <td>106.793811</td>\n",
       "    </tr>\n",
       "    <tr>\n",
       "      <th>14</th>\n",
       "      <td>75.474285</td>\n",
       "      <td>76.213334</td>\n",
       "      <td>74.359047</td>\n",
       "      <td>75.391905</td>\n",
       "    </tr>\n",
       "    <tr>\n",
       "      <th>15</th>\n",
       "      <td>62.858928</td>\n",
       "      <td>63.492856</td>\n",
       "      <td>61.675357</td>\n",
       "      <td>62.814287</td>\n",
       "    </tr>\n",
       "    <tr>\n",
       "      <th>16</th>\n",
       "      <td>49.429524</td>\n",
       "      <td>51.449999</td>\n",
       "      <td>48.839525</td>\n",
       "      <td>50.919522</td>\n",
       "    </tr>\n",
       "    <tr>\n",
       "      <th>17</th>\n",
       "      <td>74.305712</td>\n",
       "      <td>76.191431</td>\n",
       "      <td>73.920713</td>\n",
       "      <td>75.621430</td>\n",
       "    </tr>\n",
       "    <tr>\n",
       "      <th>18</th>\n",
       "      <td>93.889523</td>\n",
       "      <td>94.219044</td>\n",
       "      <td>89.711428</td>\n",
       "      <td>91.720953</td>\n",
       "    </tr>\n",
       "    <tr>\n",
       "      <th>19</th>\n",
       "      <td>88.834283</td>\n",
       "      <td>89.845715</td>\n",
       "      <td>85.383334</td>\n",
       "      <td>85.812854</td>\n",
       "    </tr>\n",
       "    <tr>\n",
       "      <th>20</th>\n",
       "      <td>105.475237</td>\n",
       "      <td>107.028096</td>\n",
       "      <td>104.263812</td>\n",
       "      <td>106.335236</td>\n",
       "    </tr>\n",
       "    <tr>\n",
       "      <th>21</th>\n",
       "      <td>92.458570</td>\n",
       "      <td>92.952142</td>\n",
       "      <td>90.952142</td>\n",
       "      <td>91.924286</td>\n",
       "    </tr>\n",
       "    <tr>\n",
       "      <th>22</th>\n",
       "      <td>63.134999</td>\n",
       "      <td>64.257144</td>\n",
       "      <td>62.386786</td>\n",
       "      <td>63.437500</td>\n",
       "    </tr>\n",
       "    <tr>\n",
       "      <th>23</th>\n",
       "      <td>54.090001</td>\n",
       "      <td>54.727619</td>\n",
       "      <td>53.104760</td>\n",
       "      <td>53.788095</td>\n",
       "    </tr>\n",
       "    <tr>\n",
       "      <th>24</th>\n",
       "      <td>76.306429</td>\n",
       "      <td>77.048572</td>\n",
       "      <td>75.298926</td>\n",
       "      <td>75.928573</td>\n",
       "    </tr>\n",
       "    <tr>\n",
       "      <th>25</th>\n",
       "      <td>80.591430</td>\n",
       "      <td>82.324644</td>\n",
       "      <td>78.871786</td>\n",
       "      <td>80.566787</td>\n",
       "    </tr>\n",
       "    <tr>\n",
       "      <th>26</th>\n",
       "      <td>92.010000</td>\n",
       "      <td>92.239523</td>\n",
       "      <td>90.169998</td>\n",
       "      <td>91.130951</td>\n",
       "    </tr>\n",
       "    <tr>\n",
       "      <th>27</th>\n",
       "      <td>107.690953</td>\n",
       "      <td>109.258573</td>\n",
       "      <td>106.580002</td>\n",
       "      <td>108.329524</td>\n",
       "    </tr>\n",
       "    <tr>\n",
       "      <th>28</th>\n",
       "      <td>92.558930</td>\n",
       "      <td>93.190357</td>\n",
       "      <td>90.939999</td>\n",
       "      <td>91.951070</td>\n",
       "    </tr>\n",
       "    <tr>\n",
       "      <th>29</th>\n",
       "      <td>61.530000</td>\n",
       "      <td>62.273928</td>\n",
       "      <td>60.679286</td>\n",
       "      <td>61.712142</td>\n",
       "    </tr>\n",
       "    <tr>\n",
       "      <th>30</th>\n",
       "      <td>52.103809</td>\n",
       "      <td>52.761906</td>\n",
       "      <td>51.350476</td>\n",
       "      <td>52.124286</td>\n",
       "    </tr>\n",
       "  </tbody>\n",
       "</table>\n",
       "</div>"
      ],
      "text/plain": [
       "            Open        High         Low       Close\n",
       "Time                                                \n",
       "1      60.025357   61.277857   59.336430   60.719285\n",
       "2      45.860001   46.356190   45.068095   45.411904\n",
       "3      74.537142   75.214284   73.073335   73.946189\n",
       "4      81.857142   82.042856   79.868570   80.462499\n",
       "5      91.006668   92.119048   89.909522   90.694285\n",
       "6     102.689524  103.675715  101.908094  102.966670\n",
       "7      89.310355   90.230000   88.413573   89.084999\n",
       "8      59.647500   60.576787   58.764999   59.998927\n",
       "9      45.500953   46.058096   44.761904   45.804286\n",
       "10     70.519283   71.230356   69.107859   70.082858\n",
       "11     79.923928   80.530713   78.736786   79.604644\n",
       "12     91.094765   92.779049   90.072382   91.850954\n",
       "13    106.496666  108.371905  105.899045  106.793811\n",
       "14     75.474285   76.213334   74.359047   75.391905\n",
       "15     62.858928   63.492856   61.675357   62.814287\n",
       "16     49.429524   51.449999   48.839525   50.919522\n",
       "17     74.305712   76.191431   73.920713   75.621430\n",
       "18     93.889523   94.219044   89.711428   91.720953\n",
       "19     88.834283   89.845715   85.383334   85.812854\n",
       "20    105.475237  107.028096  104.263812  106.335236\n",
       "21     92.458570   92.952142   90.952142   91.924286\n",
       "22     63.134999   64.257144   62.386786   63.437500\n",
       "23     54.090001   54.727619   53.104760   53.788095\n",
       "24     76.306429   77.048572   75.298926   75.928573\n",
       "25     80.591430   82.324644   78.871786   80.566787\n",
       "26     92.010000   92.239523   90.169998   91.130951\n",
       "27    107.690953  109.258573  106.580002  108.329524\n",
       "28     92.558930   93.190357   90.939999   91.951070\n",
       "29     61.530000   62.273928   60.679286   61.712142\n",
       "30     52.103809   52.761906   51.350476   52.124286"
      ]
     },
     "execution_count": 436,
     "metadata": {},
     "output_type": "execute_result"
    }
   ],
   "source": [
    "ap4.head(31)"
   ]
  },
  {
   "cell_type": "code",
   "execution_count": 437,
   "metadata": {},
   "outputs": [
    {
     "data": {
      "text/plain": [
       "Text(0,0.5,'Prices of Stocks')"
      ]
     },
     "execution_count": 437,
     "metadata": {},
     "output_type": "execute_result"
    },
    {
     "data": {
      "image/png": "[encoded data removed]",
      "text/plain": [
       "<matplotlib.figure.Figure at 0x24ec9b02160>"
      ]
     },
     "metadata": {},
     "output_type": "display_data"
    }
   ],
   "source": [
    "ts11 = ap4.plot(figsize=(10, 6), fontsize=13, title = \"Stock prices for entries in the month of April\")\n",
    "ts11.set_xlabel(\"Days of the Month\",fontsize=13)\n",
    "ts11.set_ylabel(\"Prices of Stocks\",fontsize=13)"
   ]
  },
  {
   "cell_type": "markdown",
   "metadata": {},
   "source": [
    "This graph shows some interesting results as the average for all the prices seems to vary with the day. It should be also be noted that all days have 3 or 4 entries each(as the next cell shows). It appears that the average prices either increase/decrease for a handful of days, then the graph peaks/troughs and does the opposite again. Even taking into account that some days have different years, I expected this graph to be a lot more even given that averages usually even things out"
   ]
  },
  {
   "cell_type": "code",
   "execution_count": 438,
   "metadata": {},
   "outputs": [
    {
     "data": {
      "text/plain": [
       "15    4\n",
       "21    4\n",
       "4     4\n",
       "7     4\n",
       "8     4\n",
       "10    4\n",
       "11    4\n",
       "29    4\n",
       "17    4\n",
       "1     4\n",
       "25    4\n",
       "22    4\n",
       "28    4\n",
       "24    4\n",
       "9     3\n",
       "2     3\n",
       "3     3\n",
       "5     3\n",
       "6     3\n",
       "27    3\n",
       "26    3\n",
       "20    3\n",
       "19    3\n",
       "12    3\n",
       "13    3\n",
       "14    3\n",
       "23    3\n",
       "16    3\n",
       "18    3\n",
       "30    3\n",
       "Name: Time, dtype: int64"
      ]
     },
     "execution_count": 438,
     "metadata": {},
     "output_type": "execute_result"
    }
   ],
   "source": [
    "april4.index.day.value_counts()"
   ]
  },
  {
   "cell_type": "markdown",
   "metadata": {
    "collapsed": true
   },
   "source": [
    "The following code groups the dateset by day and calculates the average stock price for each day"
   ]
  },
  {
   "cell_type": "code",
   "execution_count": 439,
   "metadata": {},
   "outputs": [
    {
     "data": {
      "text/html": [
       "<div>\n",
       "<style>\n",
       "    .dataframe thead tr:only-child th {\n",
       "        text-align: right;\n",
       "    }\n",
       "\n",
       "    .dataframe thead th {\n",
       "        text-align: left;\n",
       "    }\n",
       "\n",
       "    .dataframe tbody tr th {\n",
       "        vertical-align: top;\n",
       "    }\n",
       "</style>\n",
       "<table border=\"1\" class=\"dataframe\">\n",
       "  <thead>\n",
       "    <tr style=\"text-align: right;\">\n",
       "      <th></th>\n",
       "      <th>Open</th>\n",
       "      <th>High</th>\n",
       "      <th>Low</th>\n",
       "      <th>Close</th>\n",
       "    </tr>\n",
       "    <tr>\n",
       "      <th>Time</th>\n",
       "      <th></th>\n",
       "      <th></th>\n",
       "      <th></th>\n",
       "      <th></th>\n",
       "    </tr>\n",
       "  </thead>\n",
       "  <tbody>\n",
       "    <tr>\n",
       "      <th>1</th>\n",
       "      <td>3521.125745</td>\n",
       "      <td>3579.087122</td>\n",
       "      <td>3476.577160</td>\n",
       "      <td>3538.431445</td>\n",
       "    </tr>\n",
       "    <tr>\n",
       "      <th>2</th>\n",
       "      <td>3545.594269</td>\n",
       "      <td>3587.695745</td>\n",
       "      <td>3490.045716</td>\n",
       "      <td>3543.968546</td>\n",
       "    </tr>\n",
       "    <tr>\n",
       "      <th>3</th>\n",
       "      <td>3652.915703</td>\n",
       "      <td>3693.571413</td>\n",
       "      <td>3601.268591</td>\n",
       "      <td>3645.794244</td>\n",
       "    </tr>\n",
       "    <tr>\n",
       "      <th>4</th>\n",
       "      <td>3315.401436</td>\n",
       "      <td>3370.151433</td>\n",
       "      <td>3265.122861</td>\n",
       "      <td>3332.392849</td>\n",
       "    </tr>\n",
       "    <tr>\n",
       "      <th>5</th>\n",
       "      <td>3571.947151</td>\n",
       "      <td>3636.111420</td>\n",
       "      <td>3521.557130</td>\n",
       "      <td>3583.540011</td>\n",
       "    </tr>\n",
       "    <tr>\n",
       "      <th>6</th>\n",
       "      <td>3957.184314</td>\n",
       "      <td>4024.974311</td>\n",
       "      <td>3909.004268</td>\n",
       "      <td>3983.888578</td>\n",
       "    </tr>\n",
       "    <tr>\n",
       "      <th>7</th>\n",
       "      <td>3882.114293</td>\n",
       "      <td>3925.362842</td>\n",
       "      <td>3813.201468</td>\n",
       "      <td>3861.167120</td>\n",
       "    </tr>\n",
       "    <tr>\n",
       "      <th>8</th>\n",
       "      <td>3827.670020</td>\n",
       "      <td>3883.478563</td>\n",
       "      <td>3765.881438</td>\n",
       "      <td>3826.748574</td>\n",
       "    </tr>\n",
       "    <tr>\n",
       "      <th>9</th>\n",
       "      <td>3710.635718</td>\n",
       "      <td>3758.967172</td>\n",
       "      <td>3647.308575</td>\n",
       "      <td>3703.538550</td>\n",
       "    </tr>\n",
       "    <tr>\n",
       "      <th>10</th>\n",
       "      <td>3823.312845</td>\n",
       "      <td>3872.207130</td>\n",
       "      <td>3755.637148</td>\n",
       "      <td>3812.475714</td>\n",
       "    </tr>\n",
       "  </tbody>\n",
       "</table>\n",
       "</div>"
      ],
      "text/plain": [
       "             Open         High          Low        Close\n",
       "Time                                                    \n",
       "1     3521.125745  3579.087122  3476.577160  3538.431445\n",
       "2     3545.594269  3587.695745  3490.045716  3543.968546\n",
       "3     3652.915703  3693.571413  3601.268591  3645.794244\n",
       "4     3315.401436  3370.151433  3265.122861  3332.392849\n",
       "5     3571.947151  3636.111420  3521.557130  3583.540011\n",
       "6     3957.184314  4024.974311  3909.004268  3983.888578\n",
       "7     3882.114293  3925.362842  3813.201468  3861.167120\n",
       "8     3827.670020  3883.478563  3765.881438  3826.748574\n",
       "9     3710.635718  3758.967172  3647.308575  3703.538550\n",
       "10    3823.312845  3872.207130  3755.637148  3812.475714"
      ]
     },
     "execution_count": 439,
     "metadata": {},
     "output_type": "execute_result"
    }
   ],
   "source": [
    "df_day = df1.groupby(df1.index.day).sum()\n",
    "df_day.head(10)\n",
    "\n",
    "\n"
   ]
  },
  {
   "cell_type": "code",
   "execution_count": 440,
   "metadata": {},
   "outputs": [
    {
     "data": {
      "text/plain": [
       "Text(0,0.5,'Sum of stock prices')"
      ]
     },
     "execution_count": 440,
     "metadata": {},
     "output_type": "execute_result"
    },
    {
     "data": {
      "image/png": "[encoded data removed]",
      "text/plain": [
       "<matplotlib.figure.Figure at 0x24ec998f9e8>"
      ]
     },
     "metadata": {},
     "output_type": "display_data"
    }
   ],
   "source": [
    "ts7 = df_day.plot(kind = 'bar', figsize=(20, 6), fontsize=16, title = \"Sum of stock prices sorted by day\")\n",
    "ts7.set_xlabel(\"Days of the month\",fontsize=13)\n",
    "ts7.set_ylabel(\"Sum of stock prices\",fontsize=13)"
   ]
  },
  {
   "cell_type": "code",
   "execution_count": 441,
   "metadata": {},
   "outputs": [
    {
     "data": {
      "text/html": [
       "<div>\n",
       "<style>\n",
       "    .dataframe thead tr:only-child th {\n",
       "        text-align: right;\n",
       "    }\n",
       "\n",
       "    .dataframe thead th {\n",
       "        text-align: left;\n",
       "    }\n",
       "\n",
       "    .dataframe tbody tr th {\n",
       "        vertical-align: top;\n",
       "    }\n",
       "</style>\n",
       "<table border=\"1\" class=\"dataframe\">\n",
       "  <thead>\n",
       "    <tr style=\"text-align: right;\">\n",
       "      <th></th>\n",
       "      <th>Open</th>\n",
       "      <th>High</th>\n",
       "      <th>Low</th>\n",
       "      <th>Close</th>\n",
       "    </tr>\n",
       "    <tr>\n",
       "      <th>Time</th>\n",
       "      <th></th>\n",
       "      <th></th>\n",
       "      <th></th>\n",
       "      <th></th>\n",
       "    </tr>\n",
       "  </thead>\n",
       "  <tbody>\n",
       "    <tr>\n",
       "      <th>27</th>\n",
       "      <td>3999.092854</td>\n",
       "      <td>4050.005705</td>\n",
       "      <td>3939.940009</td>\n",
       "      <td>3995.362870</td>\n",
       "    </tr>\n",
       "    <tr>\n",
       "      <th>6</th>\n",
       "      <td>3957.184314</td>\n",
       "      <td>4024.974311</td>\n",
       "      <td>3909.004268</td>\n",
       "      <td>3983.888578</td>\n",
       "    </tr>\n",
       "    <tr>\n",
       "      <th>13</th>\n",
       "      <td>3980.264278</td>\n",
       "      <td>4040.751436</td>\n",
       "      <td>3924.188594</td>\n",
       "      <td>3982.058585</td>\n",
       "    </tr>\n",
       "    <tr>\n",
       "      <th>21</th>\n",
       "      <td>3989.322877</td>\n",
       "      <td>4044.754274</td>\n",
       "      <td>3921.375701</td>\n",
       "      <td>3977.708534</td>\n",
       "    </tr>\n",
       "    <tr>\n",
       "      <th>28</th>\n",
       "      <td>3950.230009</td>\n",
       "      <td>4007.818556</td>\n",
       "      <td>3896.237125</td>\n",
       "      <td>3960.757145</td>\n",
       "    </tr>\n",
       "  </tbody>\n",
       "</table>\n",
       "</div>"
      ],
      "text/plain": [
       "             Open         High          Low        Close\n",
       "Time                                                    \n",
       "27    3999.092854  4050.005705  3939.940009  3995.362870\n",
       "6     3957.184314  4024.974311  3909.004268  3983.888578\n",
       "13    3980.264278  4040.751436  3924.188594  3982.058585\n",
       "21    3989.322877  4044.754274  3921.375701  3977.708534\n",
       "28    3950.230009  4007.818556  3896.237125  3960.757145"
      ]
     },
     "execution_count": 441,
     "metadata": {},
     "output_type": "execute_result"
    }
   ],
   "source": [
    "df_day.nlargest(5, \"Close\")"
   ]
  },
  {
   "cell_type": "code",
   "execution_count": 442,
   "metadata": {},
   "outputs": [
    {
     "data": {
      "text/plain": [
       "11    44\n",
       "8     43\n",
       "10    43\n",
       "22    43\n",
       "13    43\n",
       "6     43\n",
       "21    42\n",
       "14    42\n",
       "17    42\n",
       "12    42\n",
       "9     42\n",
       "24    42\n",
       "7     42\n",
       "28    42\n",
       "15    42\n",
       "20    41\n",
       "27    41\n",
       "23    41\n",
       "18    41\n",
       "19    41\n",
       "3     41\n",
       "5     41\n",
       "2     40\n",
       "16    40\n",
       "4     39\n",
       "26    39\n",
       "29    39\n",
       "1     38\n",
       "30    38\n",
       "25    38\n",
       "31    24\n",
       "Name: Time, dtype: int64"
      ]
     },
     "execution_count": 442,
     "metadata": {},
     "output_type": "execute_result"
    }
   ],
   "source": [
    "df1.index.day.value_counts().nlargest(31)"
   ]
  },
  {
   "cell_type": "markdown",
   "metadata": {},
   "source": [
    "The results above are interesting. After calculating the top 5 in both largest sum of all days and the number of occurrences, only the 6th day in each month is in both tables. For example. day 27 has the highest sum total when it comes to the closing price of stocks, but it is not in the top 10 in the value counts table. Although it must "
   ]
  },
  {
   "cell_type": "code",
   "execution_count": 443,
   "metadata": {},
   "outputs": [
    {
     "name": "stdout",
     "output_type": "stream",
     "text": [
      "<class 'pandas.core.frame.DataFrame'>\n",
      "DatetimeIndex: 1259 entries, 2013-01-02 to 2017-12-29\n",
      "Data columns (total 4 columns):\n",
      "Open     1259 non-null float64\n",
      "High     1259 non-null float64\n",
      "Low      1259 non-null float64\n",
      "Close    1259 non-null float64\n",
      "dtypes: float64(4)\n",
      "memory usage: 89.2 KB\n"
     ]
    }
   ],
   "source": [
    "df1.info()"
   ]
  },
  {
   "cell_type": "markdown",
   "metadata": {},
   "source": [
    "For this example, I have grouped the dataset into years and have calculated the average prices for each year. As we can see from the graph below, the average prices have increased every year since 2013. The smallest increase in the average prices was from 2015 to 2016, which is then followed by the biggest increase of the 5 years from 2016 to 2017"
   ]
  },
  {
   "cell_type": "code",
   "execution_count": 444,
   "metadata": {},
   "outputs": [
    {
     "data": {
      "text/html": [
       "<div>\n",
       "<style>\n",
       "    .dataframe thead tr:only-child th {\n",
       "        text-align: right;\n",
       "    }\n",
       "\n",
       "    .dataframe thead th {\n",
       "        text-align: left;\n",
       "    }\n",
       "\n",
       "    .dataframe tbody tr th {\n",
       "        vertical-align: top;\n",
       "    }\n",
       "</style>\n",
       "<table border=\"1\" class=\"dataframe\">\n",
       "  <thead>\n",
       "    <tr style=\"text-align: right;\">\n",
       "      <th></th>\n",
       "      <th>Open</th>\n",
       "      <th>High</th>\n",
       "      <th>Low</th>\n",
       "      <th>Close</th>\n",
       "    </tr>\n",
       "    <tr>\n",
       "      <th>Time</th>\n",
       "      <th></th>\n",
       "      <th></th>\n",
       "      <th></th>\n",
       "      <th></th>\n",
       "    </tr>\n",
       "  </thead>\n",
       "  <tbody>\n",
       "    <tr>\n",
       "      <th>2013</th>\n",
       "      <td>35.249762</td>\n",
       "      <td>35.875658</td>\n",
       "      <td>34.628787</td>\n",
       "      <td>35.271831</td>\n",
       "    </tr>\n",
       "    <tr>\n",
       "      <th>2014</th>\n",
       "      <td>57.516111</td>\n",
       "      <td>58.287222</td>\n",
       "      <td>56.656604</td>\n",
       "      <td>57.495119</td>\n",
       "    </tr>\n",
       "    <tr>\n",
       "      <th>2015</th>\n",
       "      <td>91.798016</td>\n",
       "      <td>93.412296</td>\n",
       "      <td>90.205317</td>\n",
       "      <td>91.895674</td>\n",
       "    </tr>\n",
       "    <tr>\n",
       "      <th>2016</th>\n",
       "      <td>102.000516</td>\n",
       "      <td>103.569524</td>\n",
       "      <td>100.426746</td>\n",
       "      <td>102.030357</td>\n",
       "    </tr>\n",
       "    <tr>\n",
       "      <th>2017</th>\n",
       "      <td>165.402311</td>\n",
       "      <td>167.048725</td>\n",
       "      <td>163.487012</td>\n",
       "      <td>165.374263</td>\n",
       "    </tr>\n",
       "  </tbody>\n",
       "</table>\n",
       "</div>"
      ],
      "text/plain": [
       "            Open        High         Low       Close\n",
       "Time                                                \n",
       "2013   35.249762   35.875658   34.628787   35.271831\n",
       "2014   57.516111   58.287222   56.656604   57.495119\n",
       "2015   91.798016   93.412296   90.205317   91.895674\n",
       "2016  102.000516  103.569524  100.426746  102.030357\n",
       "2017  165.402311  167.048725  163.487012  165.374263"
      ]
     },
     "execution_count": 444,
     "metadata": {},
     "output_type": "execute_result"
    }
   ],
   "source": [
    "df_year = df1.groupby(df1.index.year).mean()\n",
    "df_year.head()"
   ]
  },
  {
   "cell_type": "code",
   "execution_count": 445,
   "metadata": {},
   "outputs": [
    {
     "data": {
      "text/plain": [
       "Text(0,0.5,'Average Price')"
      ]
     },
     "execution_count": 445,
     "metadata": {},
     "output_type": "execute_result"
    },
    {
     "data": {
      "image/png": "[encoded data removed]",
      "text/plain": [
       "<matplotlib.figure.Figure at 0x24ec9e9eb00>"
      ]
     },
     "metadata": {},
     "output_type": "display_data"
    }
   ],
   "source": [
    "ps2 = df_year.plot(kind = 'bar', figsize=(10, 6), fontsize=13, title = 'Average stock prices for Netflix(2013-2017)')\n",
    "ps2.set_xlabel(\"Years\",fontsize=13)\n",
    "ps2.set_ylabel(\"Average Price\",fontsize=13)"
   ]
  },
  {
   "cell_type": "markdown",
   "metadata": {
    "collapsed": true
   },
   "source": [
    "As a result of this graph, I decided to investigate the year 2017"
   ]
  },
  {
   "cell_type": "code",
   "execution_count": 446,
   "metadata": {
    "collapsed": true
   },
   "outputs": [],
   "source": [
    "year2017 = df1[df1.index.year == 2017]"
   ]
  },
  {
   "cell_type": "code",
   "execution_count": 447,
   "metadata": {
    "collapsed": true
   },
   "outputs": [],
   "source": [
    "year2017m = year2017.groupby(year2017.index.month).sum()"
   ]
  },
  {
   "cell_type": "code",
   "execution_count": 448,
   "metadata": {},
   "outputs": [
    {
     "data": {
      "text/plain": [
       "Text(0,0.5,'Prices')"
      ]
     },
     "execution_count": 448,
     "metadata": {},
     "output_type": "execute_result"
    },
    {
     "data": {
      "image/png": "[encoded data removed]",
      "text/plain": [
       "<matplotlib.figure.Figure at 0x24ec9eb8048>"
      ]
     },
     "metadata": {},
     "output_type": "display_data"
    }
   ],
   "source": [
    "ts9 = year2017.plot(figsize=(10, 6), fontsize=13, title = 'Stock prices for 2017')\n",
    "ts9.set_xlabel(\"Years\",fontsize=13)\n",
    "ts9.set_ylabel(\"Prices\",fontsize=13)"
   ]
  },
  {
   "cell_type": "code",
   "execution_count": 449,
   "metadata": {},
   "outputs": [
    {
     "data": {
      "text/plain": [
       "8     23\n",
       "3     23\n",
       "10    22\n",
       "6     22\n",
       "5     22\n",
       "11    21\n",
       "12    20\n",
       "9     20\n",
       "7     20\n",
       "1     20\n",
       "4     19\n",
       "2     19\n",
       "Name: Time, dtype: int64"
      ]
     },
     "execution_count": 449,
     "metadata": {},
     "output_type": "execute_result"
    }
   ],
   "source": [
    "year2017.index.month.value_counts()"
   ]
  },
  {
   "cell_type": "markdown",
   "metadata": {},
   "source": [
    "This graph also makes interesting reading. I feel that the most interesting point in the graph is the sharp rise in prices between the start of July and the start of August. Perhaps this has got to do with the movies and TV series that were added to it in this time period. Examples include the Titanic, Lion, The Void and Star Wars."
   ]
  },
  {
   "cell_type": "code",
   "execution_count": 450,
   "metadata": {
    "collapsed": true
   },
   "outputs": [],
   "source": [
    "year201707 = year2017[\"2017-07\":\"2017-08\"]"
   ]
  },
  {
   "cell_type": "code",
   "execution_count": 451,
   "metadata": {},
   "outputs": [
    {
     "data": {
      "text/plain": [
       "Text(0,0.5,'Prices')"
      ]
     },
     "execution_count": 451,
     "metadata": {},
     "output_type": "execute_result"
    },
    {
     "data": {
      "image/png": "[encoded data removed]",
      "text/plain": [
       "<matplotlib.figure.Figure at 0x24ec9dd2e48>"
      ]
     },
     "metadata": {},
     "output_type": "display_data"
    }
   ],
   "source": [
    "ts16 = year201707.plot(figsize=(10, 6), fontsize=13, title = 'Stock prices for July 2017')\n",
    "ts16.set_xlabel(\"Dates\",fontsize=13)\n",
    "ts16.set_ylabel(\"Prices\",fontsize=13)"
   ]
  },
  {
   "cell_type": "code",
   "execution_count": 452,
   "metadata": {},
   "outputs": [
    {
     "data": {
      "text/html": [
       "<div>\n",
       "<style>\n",
       "    .dataframe thead tr:only-child th {\n",
       "        text-align: right;\n",
       "    }\n",
       "\n",
       "    .dataframe thead th {\n",
       "        text-align: left;\n",
       "    }\n",
       "\n",
       "    .dataframe tbody tr th {\n",
       "        vertical-align: top;\n",
       "    }\n",
       "</style>\n",
       "<table border=\"1\" class=\"dataframe\">\n",
       "  <thead>\n",
       "    <tr style=\"text-align: right;\">\n",
       "      <th></th>\n",
       "      <th>Open</th>\n",
       "      <th>High</th>\n",
       "      <th>Low</th>\n",
       "      <th>Close</th>\n",
       "    </tr>\n",
       "    <tr>\n",
       "      <th>Time</th>\n",
       "      <th></th>\n",
       "      <th></th>\n",
       "      <th></th>\n",
       "      <th></th>\n",
       "    </tr>\n",
       "  </thead>\n",
       "  <tbody>\n",
       "    <tr>\n",
       "      <th>2017-07-17</th>\n",
       "      <td>162.910004</td>\n",
       "      <td>163.550003</td>\n",
       "      <td>160.020004</td>\n",
       "      <td>161.699997</td>\n",
       "    </tr>\n",
       "    <tr>\n",
       "      <th>2017-07-18</th>\n",
       "      <td>176.119995</td>\n",
       "      <td>185.000000</td>\n",
       "      <td>174.240005</td>\n",
       "      <td>183.600006</td>\n",
       "    </tr>\n",
       "    <tr>\n",
       "      <th>2017-07-19</th>\n",
       "      <td>182.970001</td>\n",
       "      <td>187.169998</td>\n",
       "      <td>181.750000</td>\n",
       "      <td>183.860001</td>\n",
       "    </tr>\n",
       "    <tr>\n",
       "      <th>2017-07-20</th>\n",
       "      <td>183.839996</td>\n",
       "      <td>185.919998</td>\n",
       "      <td>182.699997</td>\n",
       "      <td>183.600006</td>\n",
       "    </tr>\n",
       "    <tr>\n",
       "      <th>2017-07-21</th>\n",
       "      <td>182.720001</td>\n",
       "      <td>191.500000</td>\n",
       "      <td>182.710007</td>\n",
       "      <td>188.539993</td>\n",
       "    </tr>\n",
       "  </tbody>\n",
       "</table>\n",
       "</div>"
      ],
      "text/plain": [
       "                  Open        High         Low       Close\n",
       "Time                                                      \n",
       "2017-07-17  162.910004  163.550003  160.020004  161.699997\n",
       "2017-07-18  176.119995  185.000000  174.240005  183.600006\n",
       "2017-07-19  182.970001  187.169998  181.750000  183.860001\n",
       "2017-07-20  183.839996  185.919998  182.699997  183.600006\n",
       "2017-07-21  182.720001  191.500000  182.710007  188.539993"
      ]
     },
     "execution_count": 452,
     "metadata": {},
     "output_type": "execute_result"
    }
   ],
   "source": [
    "year201707[\"2017-07-15\": \"2017-07-22\"]"
   ]
  },
  {
   "cell_type": "markdown",
   "metadata": {},
   "source": [
    "As we can see from the data, the stocks experience a huge increase in price in the period from 2017-07-15 to 2017-07-22. Movies such as Railroad Tigers, Star Wars and Uncertain Glory were released during this time. In TV, popular there were popular series such as Last Chance U and Pretty Little Liars were made available on the service during this period."
   ]
  },
  {
   "cell_type": "markdown",
   "metadata": {},
   "source": [
    "I decided to investigate the rolling average command to see if it illustrated any different information. I used it for the Open and Close prices "
   ]
  },
  {
   "cell_type": "code",
   "execution_count": 453,
   "metadata": {},
   "outputs": [
    {
     "data": {
      "text/plain": [
       "Text(0,0.5,'Price of Stocks')"
      ]
     },
     "execution_count": 453,
     "metadata": {},
     "output_type": "execute_result"
    },
    {
     "data": {
      "image/png": "[encoded data removed]",
      "text/plain": [
       "<matplotlib.figure.Figure at 0x24ec9e7b438>"
      ]
     },
     "metadata": {},
     "output_type": "display_data"
    }
   ],
   "source": [
    "close_price = df1[\"Close\"].rolling(5).mean()\n",
    "cp = close_price.plot(color = 'green', figsize=(12, 5), fontsize=13, title = \"Rolling average of Closing Price\")\n",
    "cp.set_xlabel(\"Timeline\", fontsize = 13)\n",
    "cp.set_ylabel(\"Price of Stocks\", fontsize = 13)"
   ]
  },
  {
   "cell_type": "code",
   "execution_count": 454,
   "metadata": {},
   "outputs": [
    {
     "data": {
      "text/plain": [
       "Text(0,0.5,'Price of Stocks')"
      ]
     },
     "execution_count": 454,
     "metadata": {},
     "output_type": "execute_result"
    },
    {
     "data": {
      "image/png": "[encoded data removed]",
      "text/plain": [
       "<matplotlib.figure.Figure at 0x24eca115c88>"
      ]
     },
     "metadata": {},
     "output_type": "display_data"
    }
   ],
   "source": [
    "open_price = df1[\"Open\"].rolling(10).mean()\n",
    "op = open_price.plot(color = 'orange', figsize=(12, 5), fontsize=13, title = \"Rolling average for Opening Price\")\n",
    "op.set_xlabel(\"Timeline\", fontsize = 13)\n",
    "op.set_ylabel(\"Price of Stocks\", fontsize = 13)"
   ]
  },
  {
   "cell_type": "markdown",
   "metadata": {
    "collapsed": true
   },
   "source": [
    "The trajectory of the two graphs is similar given how closely related the two prices are to each other. The two graphs experience dips and rises in the same places, even though the Open price graph is smoothed out more."
   ]
  },
  {
   "cell_type": "markdown",
   "metadata": {
    "collapsed": true
   },
   "source": [
    "After invertigating this dataset, the only way for Netflix and online TV seems to be up. The stock prices look set to rise again in 2018 as Netflix expands"
   ]
  },
  {
   "cell_type": "code",
   "execution_count": null,
   "metadata": {
    "collapsed": true
   },
   "outputs": [],
   "source": []
  }
 ],
 "metadata": {
  "kernelspec": {
   "display_name": "Python 3",
   "language": "python",
   "name": "python3"
  },
  "language_info": {
   "codemirror_mode": {
    "name": "ipython",
    "version": 3
   },
   "file_extension": ".py",
   "mimetype": "text/x-python",
   "name": "python",
   "nbconvert_exporter": "python",
   "pygments_lexer": "ipython3",
   "version": "3.6.6"
  }
 },
 "nbformat": 4,
 "nbformat_minor": 2
}
